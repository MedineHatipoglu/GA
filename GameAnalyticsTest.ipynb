{
 "cells": [
  {
   "cell_type": "code",
   "execution_count": 30,
   "metadata": {},
   "outputs": [],
   "source": [
    "import pandas as pd\n",
    "pd.options.display.float_format = '{:,.2f}'.format\n",
    "import numpy as np\n",
    "import matplotlib\n",
    "import matplotlib.pyplot as plt\n",
    "import seaborn as sns"
   ]
  },
  {
   "cell_type": "code",
   "execution_count": 2,
   "metadata": {},
   "outputs": [
    {
     "data": {
      "text/html": [
       "<div>\n",
       "<style scoped>\n",
       "    .dataframe tbody tr th:only-of-type {\n",
       "        vertical-align: middle;\n",
       "    }\n",
       "\n",
       "    .dataframe tbody tr th {\n",
       "        vertical-align: top;\n",
       "    }\n",
       "\n",
       "    .dataframe thead th {\n",
       "        text-align: right;\n",
       "    }\n",
       "</style>\n",
       "<table border=\"1\" class=\"dataframe\">\n",
       "  <thead>\n",
       "    <tr style=\"text-align: right;\">\n",
       "      <th></th>\n",
       "      <th>event_timestamp</th>\n",
       "      <th>event_category</th>\n",
       "      <th>event_id</th>\n",
       "      <th>player_country_code</th>\n",
       "      <th>player_id</th>\n",
       "      <th>player_session_id</th>\n",
       "      <th>transaction_amount</th>\n",
       "      <th>game_build</th>\n",
       "      <th>player_first_install_timestamp</th>\n",
       "      <th>session_start_ts</th>\n",
       "      <th>session_duration_seconds</th>\n",
       "      <th>player_cumulative_revenue</th>\n",
       "    </tr>\n",
       "  </thead>\n",
       "  <tbody>\n",
       "    <tr>\n",
       "      <th>0</th>\n",
       "      <td>1484053435</td>\n",
       "      <td>design</td>\n",
       "      <td>boot</td>\n",
       "      <td>TR</td>\n",
       "      <td>7a98917fd12ba24ae4d2e42a74b0944c</td>\n",
       "      <td>01l7esFo-5XvS-eyKl-QX5q-UalaTmyM2qz</td>\n",
       "      <td>nan</td>\n",
       "      <td>v1.1.26</td>\n",
       "      <td>1483818916</td>\n",
       "      <td>1484053428</td>\n",
       "      <td>310</td>\n",
       "      <td>nan</td>\n",
       "    </tr>\n",
       "    <tr>\n",
       "      <th>1</th>\n",
       "      <td>1484416837</td>\n",
       "      <td>design</td>\n",
       "      <td>boot</td>\n",
       "      <td>IT</td>\n",
       "      <td>20fbf618e34215d876965b6304134ce3</td>\n",
       "      <td>03PPdJ8G-Hn6V-5zwl-xRZx-3k06wnFhxqH</td>\n",
       "      <td>nan</td>\n",
       "      <td>v1.1.26</td>\n",
       "      <td>1484416849</td>\n",
       "      <td>1484416835</td>\n",
       "      <td>14</td>\n",
       "      <td>nan</td>\n",
       "    </tr>\n",
       "    <tr>\n",
       "      <th>2</th>\n",
       "      <td>1484148932</td>\n",
       "      <td>design</td>\n",
       "      <td>boot</td>\n",
       "      <td>NaN</td>\n",
       "      <td>c44c05baf6f019241780cca1947e8cc2</td>\n",
       "      <td>03qZsL5V-m8MH-ybBT-PX6w-K83AOfIWnek</td>\n",
       "      <td>nan</td>\n",
       "      <td>v1.1.28</td>\n",
       "      <td>1482771340</td>\n",
       "      <td>1484148925</td>\n",
       "      <td>8783</td>\n",
       "      <td>nan</td>\n",
       "    </tr>\n",
       "    <tr>\n",
       "      <th>3</th>\n",
       "      <td>1483688749</td>\n",
       "      <td>design</td>\n",
       "      <td>boot</td>\n",
       "      <td>AU</td>\n",
       "      <td>f3c00d6b906806ed9c72ec9d64f5b588</td>\n",
       "      <td>06M0sv0U-05L2-PmtM-UH2M-EiWuzuKM8s0</td>\n",
       "      <td>nan</td>\n",
       "      <td>v1.1.26</td>\n",
       "      <td>1483354323</td>\n",
       "      <td>1483688742</td>\n",
       "      <td>247</td>\n",
       "      <td>396.00</td>\n",
       "    </tr>\n",
       "    <tr>\n",
       "      <th>4</th>\n",
       "      <td>1484148728</td>\n",
       "      <td>design</td>\n",
       "      <td>boot</td>\n",
       "      <td>IN</td>\n",
       "      <td>3cb0e101b67cfcba4fe42b6342e4d3e5</td>\n",
       "      <td>07PnSNdP-pH1B-JD5T-6esH-AjEDbsHNyuZ</td>\n",
       "      <td>nan</td>\n",
       "      <td>v1.1.26</td>\n",
       "      <td>1482500265</td>\n",
       "      <td>1484148720</td>\n",
       "      <td>178</td>\n",
       "      <td>nan</td>\n",
       "    </tr>\n",
       "  </tbody>\n",
       "</table>\n",
       "</div>"
      ],
      "text/plain": [
       "   event_timestamp event_category event_id player_country_code  \\\n",
       "0       1484053435         design     boot                  TR   \n",
       "1       1484416837         design     boot                  IT   \n",
       "2       1484148932         design     boot                 NaN   \n",
       "3       1483688749         design     boot                  AU   \n",
       "4       1484148728         design     boot                  IN   \n",
       "\n",
       "                          player_id                    player_session_id  \\\n",
       "0  7a98917fd12ba24ae4d2e42a74b0944c  01l7esFo-5XvS-eyKl-QX5q-UalaTmyM2qz   \n",
       "1  20fbf618e34215d876965b6304134ce3  03PPdJ8G-Hn6V-5zwl-xRZx-3k06wnFhxqH   \n",
       "2  c44c05baf6f019241780cca1947e8cc2  03qZsL5V-m8MH-ybBT-PX6w-K83AOfIWnek   \n",
       "3  f3c00d6b906806ed9c72ec9d64f5b588  06M0sv0U-05L2-PmtM-UH2M-EiWuzuKM8s0   \n",
       "4  3cb0e101b67cfcba4fe42b6342e4d3e5  07PnSNdP-pH1B-JD5T-6esH-AjEDbsHNyuZ   \n",
       "\n",
       "   transaction_amount game_build  player_first_install_timestamp  \\\n",
       "0                 nan    v1.1.26                      1483818916   \n",
       "1                 nan    v1.1.26                      1484416849   \n",
       "2                 nan    v1.1.28                      1482771340   \n",
       "3                 nan    v1.1.26                      1483354323   \n",
       "4                 nan    v1.1.26                      1482500265   \n",
       "\n",
       "   session_start_ts  session_duration_seconds  player_cumulative_revenue  \n",
       "0        1484053428                       310                        nan  \n",
       "1        1484416835                        14                        nan  \n",
       "2        1484148925                      8783                        nan  \n",
       "3        1483688742                       247                     396.00  \n",
       "4        1484148720                       178                        nan  "
      ]
     },
     "execution_count": 2,
     "metadata": {},
     "output_type": "execute_result"
    }
   ],
   "source": [
    "import gzip\n",
    "with gzip.open(\"GameAnalyticsTestData.gz\") as f:\n",
    "    df = pd.read_csv(f)\n",
    "df.head()"
   ]
  },
  {
   "cell_type": "code",
   "execution_count": 3,
   "metadata": {},
   "outputs": [
    {
     "name": "stdout",
     "output_type": "stream",
     "text": [
      "<class 'pandas.core.frame.DataFrame'>\n",
      "RangeIndex: 850009 entries, 0 to 850008\n",
      "Data columns (total 12 columns):\n",
      "event_timestamp                   850009 non-null int64\n",
      "event_category                    850009 non-null object\n",
      "event_id                          850009 non-null object\n",
      "player_country_code               818574 non-null object\n",
      "player_id                         850009 non-null object\n",
      "player_session_id                 850009 non-null object\n",
      "transaction_amount                22089 non-null float64\n",
      "game_build                        850009 non-null object\n",
      "player_first_install_timestamp    850009 non-null int64\n",
      "session_start_ts                  850009 non-null int64\n",
      "session_duration_seconds          850009 non-null int64\n",
      "player_cumulative_revenue         59998 non-null float64\n",
      "dtypes: float64(2), int64(4), object(6)\n",
      "memory usage: 77.8+ MB\n"
     ]
    }
   ],
   "source": [
    "df.info()"
   ]
  },
  {
   "cell_type": "code",
   "execution_count": 4,
   "metadata": {},
   "outputs": [
    {
     "data": {
      "text/html": [
       "<div>\n",
       "<style scoped>\n",
       "    .dataframe tbody tr th:only-of-type {\n",
       "        vertical-align: middle;\n",
       "    }\n",
       "\n",
       "    .dataframe tbody tr th {\n",
       "        vertical-align: top;\n",
       "    }\n",
       "\n",
       "    .dataframe thead th {\n",
       "        text-align: right;\n",
       "    }\n",
       "</style>\n",
       "<table border=\"1\" class=\"dataframe\">\n",
       "  <thead>\n",
       "    <tr style=\"text-align: right;\">\n",
       "      <th></th>\n",
       "      <th>event_timestamp</th>\n",
       "      <th>event_category</th>\n",
       "      <th>event_id</th>\n",
       "      <th>player_country_code</th>\n",
       "      <th>player_id</th>\n",
       "      <th>player_session_id</th>\n",
       "      <th>transaction_amount</th>\n",
       "      <th>game_build</th>\n",
       "      <th>player_first_install_timestamp</th>\n",
       "      <th>session_start_ts</th>\n",
       "      <th>session_duration_seconds</th>\n",
       "      <th>player_cumulative_revenue</th>\n",
       "      <th>event_date</th>\n",
       "    </tr>\n",
       "  </thead>\n",
       "  <tbody>\n",
       "    <tr>\n",
       "      <th>0</th>\n",
       "      <td>2017-01-10 13:03:55</td>\n",
       "      <td>design</td>\n",
       "      <td>boot</td>\n",
       "      <td>TR</td>\n",
       "      <td>7a98917fd12ba24ae4d2e42a74b0944c</td>\n",
       "      <td>01l7esFo-5XvS-eyKl-QX5q-UalaTmyM2qz</td>\n",
       "      <td>nan</td>\n",
       "      <td>v1.1.26</td>\n",
       "      <td>2017-01-07 19:55:16</td>\n",
       "      <td>2017-01-10 13:03:48</td>\n",
       "      <td>310</td>\n",
       "      <td>nan</td>\n",
       "      <td>2017-01-10</td>\n",
       "    </tr>\n",
       "    <tr>\n",
       "      <th>1</th>\n",
       "      <td>2017-01-14 18:00:37</td>\n",
       "      <td>design</td>\n",
       "      <td>boot</td>\n",
       "      <td>IT</td>\n",
       "      <td>20fbf618e34215d876965b6304134ce3</td>\n",
       "      <td>03PPdJ8G-Hn6V-5zwl-xRZx-3k06wnFhxqH</td>\n",
       "      <td>nan</td>\n",
       "      <td>v1.1.26</td>\n",
       "      <td>2017-01-14 18:00:49</td>\n",
       "      <td>2017-01-14 18:00:35</td>\n",
       "      <td>14</td>\n",
       "      <td>nan</td>\n",
       "      <td>2017-01-14</td>\n",
       "    </tr>\n",
       "    <tr>\n",
       "      <th>2</th>\n",
       "      <td>2017-01-11 15:35:32</td>\n",
       "      <td>design</td>\n",
       "      <td>boot</td>\n",
       "      <td>NaN</td>\n",
       "      <td>c44c05baf6f019241780cca1947e8cc2</td>\n",
       "      <td>03qZsL5V-m8MH-ybBT-PX6w-K83AOfIWnek</td>\n",
       "      <td>nan</td>\n",
       "      <td>v1.1.28</td>\n",
       "      <td>2016-12-26 16:55:40</td>\n",
       "      <td>2017-01-11 15:35:25</td>\n",
       "      <td>8783</td>\n",
       "      <td>nan</td>\n",
       "      <td>2017-01-11</td>\n",
       "    </tr>\n",
       "  </tbody>\n",
       "</table>\n",
       "</div>"
      ],
      "text/plain": [
       "      event_timestamp event_category event_id player_country_code  \\\n",
       "0 2017-01-10 13:03:55         design     boot                  TR   \n",
       "1 2017-01-14 18:00:37         design     boot                  IT   \n",
       "2 2017-01-11 15:35:32         design     boot                 NaN   \n",
       "\n",
       "                          player_id                    player_session_id  \\\n",
       "0  7a98917fd12ba24ae4d2e42a74b0944c  01l7esFo-5XvS-eyKl-QX5q-UalaTmyM2qz   \n",
       "1  20fbf618e34215d876965b6304134ce3  03PPdJ8G-Hn6V-5zwl-xRZx-3k06wnFhxqH   \n",
       "2  c44c05baf6f019241780cca1947e8cc2  03qZsL5V-m8MH-ybBT-PX6w-K83AOfIWnek   \n",
       "\n",
       "   transaction_amount game_build player_first_install_timestamp  \\\n",
       "0                 nan    v1.1.26            2017-01-07 19:55:16   \n",
       "1                 nan    v1.1.26            2017-01-14 18:00:49   \n",
       "2                 nan    v1.1.28            2016-12-26 16:55:40   \n",
       "\n",
       "     session_start_ts  session_duration_seconds  player_cumulative_revenue  \\\n",
       "0 2017-01-10 13:03:48                       310                        nan   \n",
       "1 2017-01-14 18:00:35                        14                        nan   \n",
       "2 2017-01-11 15:35:25                      8783                        nan   \n",
       "\n",
       "   event_date  \n",
       "0  2017-01-10  \n",
       "1  2017-01-14  \n",
       "2  2017-01-11  "
      ]
     },
     "execution_count": 4,
     "metadata": {},
     "output_type": "execute_result"
    }
   ],
   "source": [
    "df[\"event_timestamp\"] = pd.to_datetime(df[\"event_timestamp\"],unit='s')\n",
    "df[\"event_date\"] = pd.to_datetime(df[\"event_timestamp\"],unit='s').apply(lambda x: x.date())\n",
    "df[\"player_first_install_timestamp\"] = pd.to_datetime(df[\"player_first_install_timestamp\"],unit='s')\n",
    "df[\"session_start_ts\"] = pd.to_datetime(df[\"session_start_ts\"],unit='s')\n",
    "df.head(3)"
   ]
  },
  {
   "cell_type": "code",
   "execution_count": 5,
   "metadata": {},
   "outputs": [
    {
     "data": {
      "text/html": [
       "<div>\n",
       "<style scoped>\n",
       "    .dataframe tbody tr th:only-of-type {\n",
       "        vertical-align: middle;\n",
       "    }\n",
       "\n",
       "    .dataframe tbody tr th {\n",
       "        vertical-align: top;\n",
       "    }\n",
       "\n",
       "    .dataframe thead th {\n",
       "        text-align: right;\n",
       "    }\n",
       "</style>\n",
       "<table border=\"1\" class=\"dataframe\">\n",
       "  <thead>\n",
       "    <tr style=\"text-align: right;\">\n",
       "      <th></th>\n",
       "      <th>transaction_amount</th>\n",
       "      <th>session_duration_seconds</th>\n",
       "      <th>player_cumulative_revenue</th>\n",
       "    </tr>\n",
       "  </thead>\n",
       "  <tbody>\n",
       "    <tr>\n",
       "      <th>count</th>\n",
       "      <td>22,089.00</td>\n",
       "      <td>850,009.00</td>\n",
       "      <td>59,998.00</td>\n",
       "    </tr>\n",
       "    <tr>\n",
       "      <th>mean</th>\n",
       "      <td>7,182.01</td>\n",
       "      <td>5,324.39</td>\n",
       "      <td>117,581.74</td>\n",
       "    </tr>\n",
       "    <tr>\n",
       "      <th>std</th>\n",
       "      <td>3,685.55</td>\n",
       "      <td>48,761.50</td>\n",
       "      <td>316,410.15</td>\n",
       "    </tr>\n",
       "    <tr>\n",
       "      <th>min</th>\n",
       "      <td>99.00</td>\n",
       "      <td>0.00</td>\n",
       "      <td>99.00</td>\n",
       "    </tr>\n",
       "    <tr>\n",
       "      <th>25%</th>\n",
       "      <td>3,699.00</td>\n",
       "      <td>127.00</td>\n",
       "      <td>595.00</td>\n",
       "    </tr>\n",
       "    <tr>\n",
       "      <th>50%</th>\n",
       "      <td>9,999.00</td>\n",
       "      <td>301.00</td>\n",
       "      <td>3,694.00</td>\n",
       "    </tr>\n",
       "    <tr>\n",
       "      <th>75%</th>\n",
       "      <td>9,999.00</td>\n",
       "      <td>886.00</td>\n",
       "      <td>89,991.00</td>\n",
       "    </tr>\n",
       "    <tr>\n",
       "      <th>max</th>\n",
       "      <td>9,999.00</td>\n",
       "      <td>2,295,068.00</td>\n",
       "      <td>7,247,265.00</td>\n",
       "    </tr>\n",
       "  </tbody>\n",
       "</table>\n",
       "</div>"
      ],
      "text/plain": [
       "       transaction_amount  session_duration_seconds  player_cumulative_revenue\n",
       "count           22,089.00                850,009.00                  59,998.00\n",
       "mean             7,182.01                  5,324.39                 117,581.74\n",
       "std              3,685.55                 48,761.50                 316,410.15\n",
       "min                 99.00                      0.00                      99.00\n",
       "25%              3,699.00                    127.00                     595.00\n",
       "50%              9,999.00                    301.00                   3,694.00\n",
       "75%              9,999.00                    886.00                  89,991.00\n",
       "max              9,999.00              2,295,068.00               7,247,265.00"
      ]
     },
     "execution_count": 5,
     "metadata": {},
     "output_type": "execute_result"
    }
   ],
   "source": [
    "df.describe()\n",
    "#session_duration_seconds field's maximum is 2,29M. It is an extreme value (outlier)"
   ]
  },
  {
   "cell_type": "code",
   "execution_count": 6,
   "metadata": {},
   "outputs": [
    {
     "data": {
      "text/html": [
       "<div>\n",
       "<style scoped>\n",
       "    .dataframe tbody tr th:only-of-type {\n",
       "        vertical-align: middle;\n",
       "    }\n",
       "\n",
       "    .dataframe tbody tr th {\n",
       "        vertical-align: top;\n",
       "    }\n",
       "\n",
       "    .dataframe thead th {\n",
       "        text-align: right;\n",
       "    }\n",
       "</style>\n",
       "<table border=\"1\" class=\"dataframe\">\n",
       "  <thead>\n",
       "    <tr style=\"text-align: right;\">\n",
       "      <th></th>\n",
       "      <th>transaction_amount</th>\n",
       "      <th>session_duration_seconds</th>\n",
       "      <th>player_cumulative_revenue</th>\n",
       "    </tr>\n",
       "  </thead>\n",
       "  <tbody>\n",
       "    <tr>\n",
       "      <th>count</th>\n",
       "      <td>20,794.00</td>\n",
       "      <td>843,819.00</td>\n",
       "      <td>58,264.00</td>\n",
       "    </tr>\n",
       "    <tr>\n",
       "      <th>mean</th>\n",
       "      <td>7,196.43</td>\n",
       "      <td>2,543.49</td>\n",
       "      <td>79,023.53</td>\n",
       "    </tr>\n",
       "    <tr>\n",
       "      <th>std</th>\n",
       "      <td>3,710.59</td>\n",
       "      <td>10,313.06</td>\n",
       "      <td>162,161.20</td>\n",
       "    </tr>\n",
       "    <tr>\n",
       "      <th>min</th>\n",
       "      <td>99.00</td>\n",
       "      <td>0.00</td>\n",
       "      <td>99.00</td>\n",
       "    </tr>\n",
       "    <tr>\n",
       "      <th>25%</th>\n",
       "      <td>3,699.00</td>\n",
       "      <td>127.00</td>\n",
       "      <td>499.00</td>\n",
       "    </tr>\n",
       "    <tr>\n",
       "      <th>50%</th>\n",
       "      <td>9,999.00</td>\n",
       "      <td>295.00</td>\n",
       "      <td>3,496.00</td>\n",
       "    </tr>\n",
       "    <tr>\n",
       "      <th>75%</th>\n",
       "      <td>9,999.00</td>\n",
       "      <td>863.00</td>\n",
       "      <td>79,992.00</td>\n",
       "    </tr>\n",
       "    <tr>\n",
       "      <th>max</th>\n",
       "      <td>9,999.00</td>\n",
       "      <td>151,608.00</td>\n",
       "      <td>1,041,580.00</td>\n",
       "    </tr>\n",
       "  </tbody>\n",
       "</table>\n",
       "</div>"
      ],
      "text/plain": [
       "       transaction_amount  session_duration_seconds  player_cumulative_revenue\n",
       "count           20,794.00                843,819.00                  58,264.00\n",
       "mean             7,196.43                  2,543.49                  79,023.53\n",
       "std              3,710.59                 10,313.06                 162,161.20\n",
       "min                 99.00                      0.00                      99.00\n",
       "25%              3,699.00                    127.00                     499.00\n",
       "50%              9,999.00                    295.00                   3,496.00\n",
       "75%              9,999.00                    863.00                  79,992.00\n",
       "max              9,999.00                151,608.00               1,041,580.00"
      ]
     },
     "execution_count": 6,
     "metadata": {},
     "output_type": "execute_result"
    }
   ],
   "source": [
    "#Detect and exclude outliers-V2\n",
    "#Boolean indexing\n",
    "df=df[~(np.abs(df[\"session_duration_seconds\"]-df[\"session_duration_seconds\"].mean()) > (3*df[\"session_duration_seconds\"].std()))]\n",
    "df=df[~(np.abs(df[\"player_cumulative_revenue\"]-df[\"player_cumulative_revenue\"].mean()) > (3*df[\"player_cumulative_revenue\"].std()))]\n",
    "df.describe()"
   ]
  },
  {
   "cell_type": "code",
   "execution_count": 27,
   "metadata": {},
   "outputs": [
    {
     "data": {
      "text/plain": [
       "boot                                 823025\n",
       "monetize:buy:buycandy6                 7508\n",
       "monetize:buy:buycash6                  5449\n",
       "monetize:buy:buybundlehighroller       3965\n",
       "monetize:buy:buybundlemotormayhem       826\n",
       "monetize:buy:buybundle1                 779\n",
       "monetize:buy:buycandy1                  680\n",
       "monetize:buy:buycash1                   388\n",
       "monetize:buy:buycandy2                  367\n",
       "monetize:buy:buycandy3                  232\n",
       "monetize:buy:buycash2                   113\n",
       "monetize:buy:buycandy5                  105\n",
       "monetize:buy:buycash5                   100\n",
       "monetize:buy:buycash3                    95\n",
       "monetize:buy:buycandy4                   95\n",
       "monetize:buy:buycash4                    92\n",
       "Name: event_id, dtype: int64"
      ]
     },
     "execution_count": 27,
     "metadata": {},
     "output_type": "execute_result"
    }
   ],
   "source": [
    "#data handling: event_id has different letter style \n",
    "df['event_id']=df['event_id'].str.lower()\n",
    "df['event_id'].value_counts()"
   ]
  },
  {
   "cell_type": "code",
   "execution_count": 26,
   "metadata": {},
   "outputs": [],
   "source": []
  },
  {
   "cell_type": "code",
   "execution_count": 8,
   "metadata": {},
   "outputs": [
    {
     "name": "stdout",
     "output_type": "stream",
     "text": [
      "Number of Unique User: 92473\n"
     ]
    }
   ],
   "source": [
    "#Number of unique users: How many players have been seen playing the game?\n",
    "print(\"Number of Unique User: %d\" % df['player_id'].nunique())"
   ]
  },
  {
   "cell_type": "code",
   "execution_count": 9,
   "metadata": {},
   "outputs": [
    {
     "name": "stdout",
     "output_type": "stream",
     "text": [
      "            player_session_id\n",
      "event_date                   \n",
      "2017-01-05              61349\n",
      "2017-01-06              66647\n",
      "2017-01-07              72355\n",
      "2017-01-08              83392\n",
      "2017-01-09              80832\n",
      "2017-01-10              79993\n",
      "2017-01-11              86974\n",
      "2017-01-12              86344\n",
      "2017-01-13              80721\n",
      "2017-01-14              84426\n"
     ]
    }
   ],
   "source": [
    "#How many unique sessions are there per day?\n",
    "df4=df.groupby(\"event_date\")[['player_session_id']].nunique()\n",
    "print(df4)"
   ]
  },
  {
   "cell_type": "code",
   "execution_count": 10,
   "metadata": {},
   "outputs": [
    {
     "name": "stdout",
     "output_type": "stream",
     "text": [
      "event_date\n",
      "2017-01-05   2.89\n",
      "2017-01-06   3.20\n",
      "2017-01-07   3.33\n",
      "2017-01-08   3.42\n",
      "2017-01-09   3.47\n",
      "2017-01-10   3.47\n",
      "2017-01-11   3.41\n",
      "2017-01-12   3.53\n",
      "2017-01-13   3.58\n",
      "2017-01-14   3.44\n",
      "dtype: float64\n"
     ]
    }
   ],
   "source": [
    "#Is the count of unique sessions per user constant during the week?\n",
    "df5=df.groupby(\"event_date\").player_session_id.nunique()/df.groupby(\"event_date\").player_id.nunique()\n",
    "print(df5)"
   ]
  },
  {
   "cell_type": "code",
   "execution_count": 11,
   "metadata": {},
   "outputs": [
    {
     "data": {
      "text/plain": [
       "<matplotlib.axes._subplots.AxesSubplot at 0x1db606cdb00>"
      ]
     },
     "execution_count": 11,
     "metadata": {},
     "output_type": "execute_result"
    },
    {
     "data": {
      "image/png": "[encoded data removed]",
      "text/plain": [
       "<Figure size 432x288 with 1 Axes>"
      ]
     },
     "metadata": {
      "needs_background": "light"
     },
     "output_type": "display_data"
    }
   ],
   "source": [
    "df5.plot(kind='line')"
   ]
  },
  {
   "cell_type": "code",
   "execution_count": 12,
   "metadata": {},
   "outputs": [
    {
     "data": {
      "text/html": [
       "<div>\n",
       "<style scoped>\n",
       "    .dataframe tbody tr th:only-of-type {\n",
       "        vertical-align: middle;\n",
       "    }\n",
       "\n",
       "    .dataframe tbody tr th {\n",
       "        vertical-align: top;\n",
       "    }\n",
       "\n",
       "    .dataframe thead th {\n",
       "        text-align: right;\n",
       "    }\n",
       "</style>\n",
       "<table border=\"1\" class=\"dataframe\">\n",
       "  <thead>\n",
       "    <tr style=\"text-align: right;\">\n",
       "      <th></th>\n",
       "      <th>event_id</th>\n",
       "    </tr>\n",
       "    <tr>\n",
       "      <th>day_of_week</th>\n",
       "      <th></th>\n",
       "    </tr>\n",
       "  </thead>\n",
       "  <tbody>\n",
       "    <tr>\n",
       "      <th>Saturday</th>\n",
       "      <td>168620</td>\n",
       "    </tr>\n",
       "    <tr>\n",
       "      <th>Thursday</th>\n",
       "      <td>158879</td>\n",
       "    </tr>\n",
       "    <tr>\n",
       "      <th>Friday</th>\n",
       "      <td>158162</td>\n",
       "    </tr>\n",
       "    <tr>\n",
       "      <th>Wednesday</th>\n",
       "      <td>94204</td>\n",
       "    </tr>\n",
       "    <tr>\n",
       "      <th>Sunday</th>\n",
       "      <td>90877</td>\n",
       "    </tr>\n",
       "    <tr>\n",
       "      <th>Monday</th>\n",
       "      <td>87199</td>\n",
       "    </tr>\n",
       "    <tr>\n",
       "      <th>Tuesday</th>\n",
       "      <td>85878</td>\n",
       "    </tr>\n",
       "  </tbody>\n",
       "</table>\n",
       "</div>"
      ],
      "text/plain": [
       "             event_id\n",
       "day_of_week          \n",
       "Saturday       168620\n",
       "Thursday       158879\n",
       "Friday         158162\n",
       "Wednesday       94204\n",
       "Sunday          90877\n",
       "Monday          87199\n",
       "Tuesday         85878"
      ]
     },
     "execution_count": 12,
     "metadata": {},
     "output_type": "execute_result"
    }
   ],
   "source": [
    "#Is there a day of the week in which we receive more events?\n",
    "df['day_of_week'] = df['event_timestamp'].dt.day_name()\n",
    "df.groupby('day_of_week').agg({'event_id':'count'}).sort_values(by='event_id', ascending=False)\n",
    "#Saturday is the most events receieved."
   ]
  },
  {
   "cell_type": "code",
   "execution_count": 28,
   "metadata": {},
   "outputs": [
    {
     "name": "stdout",
     "output_type": "stream",
     "text": [
      "     event_date                event_id  transaction_amount\n",
      "9    2017-01-05  monetize:buy:buycandy6        6,929,307.00\n",
      "25   2017-01-06  monetize:buy:buycandy6        5,599,440.00\n",
      "41   2017-01-07  monetize:buy:buycandy6        7,119,288.00\n",
      "57   2017-01-08  monetize:buy:buycandy6        9,429,057.00\n",
      "73   2017-01-09  monetize:buy:buycandy6        7,049,295.00\n",
      "89   2017-01-10  monetize:buy:buycandy6        7,659,234.00\n",
      "105  2017-01-11  monetize:buy:buycandy6        8,959,104.00\n",
      "121  2017-01-12  monetize:buy:buycandy6        7,409,259.00\n",
      "137  2017-01-13  monetize:buy:buycandy6        6,389,361.00\n",
      "153  2017-01-14  monetize:buy:buycandy6        8,529,147.00\n"
     ]
    }
   ],
   "source": [
    "#What is the item that produced the largest revenue per day?\n",
    "\n",
    "df1=df.groupby(['event_date','event_id'], as_index=False)[['transaction_amount']].sum().sort_values(\"transaction_amount\",ascending=False).head(14)\n",
    "df2=df1.sort_values(\"event_date\").drop_duplicates(subset='event_date', keep='first', inplace=False)\n",
    "print(df2)"
   ]
  },
  {
   "cell_type": "code",
   "execution_count": 29,
   "metadata": {},
   "outputs": [
    {
     "name": "stdout",
     "output_type": "stream",
     "text": [
      "                                   transaction_amount\n",
      "event_id                                             \n",
      "monetize:buy:buycandy6                  75,072,492.00\n",
      "monetize:buy:buycash6                   54,484,551.00\n",
      "monetize:buy:buybundlehighroller        14,666,535.00\n",
      "monetize:buy:buybundlemotormayhem        2,064,174.00\n",
      "monetize:buy:buybundle1                  1,245,621.00\n"
     ]
    }
   ],
   "source": [
    "#What are the 5 most profitable items of this game\n",
    "df3=df.groupby(['event_id'])[['transaction_amount']].sum().sort_values(\"transaction_amount\",ascending=False).head(5)\n",
    "print(df3)"
   ]
  },
  {
   "cell_type": "code",
   "execution_count": 15,
   "metadata": {},
   "outputs": [],
   "source": [
    "#Detect and exclude outliers-V1\n",
    "#Boolean indexing: keep only the ones that are within +3 to -3 standard deviations in the column 'session_duration_seconds'\n",
    "#df=df[np.abs(df[\"session_duration_seconds\"]-df[\"session_duration_seconds\"].mean()) <= (3*df[\"session_duration_seconds\"].std())]\n",
    "#df=df[np.abs(df[\"player_cumulative_revenue\"]-df[\"player_cumulative_revenue\"].mean()) <= (3*df[\"player_cumulative_revenue\"].std())]\n",
    "#df.describe()"
   ]
  },
  {
   "cell_type": "code",
   "execution_count": 16,
   "metadata": {},
   "outputs": [],
   "source": [
    "#Detect and exclude outliers-V3\n",
    "#from scipy import stats\n",
    "#df[(np.abs(stats.zscore(df)) < 3).all(axis=1)]\n",
    "#df.describe()"
   ]
  },
  {
   "cell_type": "code",
   "execution_count": 17,
   "metadata": {},
   "outputs": [],
   "source": [
    "#regions = pd.read_html(\"https://s3.amazonaws.com/ga-scratchpad/GAME-4183/data/regions.csv\")\n",
    "#regions.head(3)"
   ]
  },
  {
   "cell_type": "code",
   "execution_count": 18,
   "metadata": {},
   "outputs": [
    {
     "data": {
      "text/plain": [
       "player_country_code\n",
       "US    176924\n",
       "FR    101828\n",
       "PL     69390\n",
       "GB     46561\n",
       "CA     41704\n",
       "Name: player_session_id, dtype: int64"
      ]
     },
     "execution_count": 18,
     "metadata": {},
     "output_type": "execute_result"
    }
   ],
   "source": [
    "#Number of unique users by countries\n",
    "df.groupby('player_country_code')['player_session_id'].nunique().sort_values(ascending=False).head(5)"
   ]
  },
  {
   "cell_type": "code",
   "execution_count": 19,
   "metadata": {},
   "outputs": [
    {
     "data": {
      "text/plain": [
       "<matplotlib.axes._subplots.AxesSubplot at 0x1db5869fd68>"
      ]
     },
     "execution_count": 19,
     "metadata": {},
     "output_type": "execute_result"
    },
    {
     "data": {
      "image/png": "[encoded data removed]",
      "text/plain": [
       "<Figure size 432x288 with 1 Axes>"
      ]
     },
     "metadata": {
      "needs_background": "light"
     },
     "output_type": "display_data"
    }
   ],
   "source": [
    "df[\"transaction_amount\"].plot(kind='hist')"
   ]
  },
  {
   "cell_type": "code",
   "execution_count": 20,
   "metadata": {},
   "outputs": [
    {
     "data": {
      "text/plain": [
       "9,999.00    12957\n",
       "3,699.00     3965\n",
       "2,499.00      826\n",
       "1,599.00      779\n",
       "99.00         680\n",
       "499.00        480\n",
       "199.00        388\n",
       "999.00        327\n",
       "4,999.00      205\n",
       "1,998.00      187\n",
       "Name: transaction_amount, dtype: int64"
      ]
     },
     "execution_count": 20,
     "metadata": {},
     "output_type": "execute_result"
    }
   ],
   "source": [
    "df[\"transaction_amount\"].value_counts()\n"
   ]
  },
  {
   "cell_type": "code",
   "execution_count": 21,
   "metadata": {},
   "outputs": [],
   "source": [
    "#df['weekday'] = df['event_timestamp'].dt.dayofweek\n",
    "#df['day_of_week'] = df['event_timestamp'].dt.day_name()\n",
    "#df.head()"
   ]
  }
 ],
 "metadata": {
  "kernelspec": {
   "display_name": "Python 3",
   "language": "python",
   "name": "python3"
  },
  "language_info": {
   "codemirror_mode": {
    "name": "ipython",
    "version": 3
   },
   "file_extension": ".py",
   "mimetype": "text/x-python",
   "name": "python",
   "nbconvert_exporter": "python",
   "pygments_lexer": "ipython3",
   "version": "3.7.0"
  }
 },
 "nbformat": 4,
 "nbformat_minor": 2
}
