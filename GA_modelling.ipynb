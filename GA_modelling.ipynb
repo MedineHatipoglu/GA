{
 "cells": [
  {
   "cell_type": "code",
   "execution_count": 1,
   "metadata": {},
   "outputs": [
    {
     "name": "stderr",
     "output_type": "stream",
     "text": [
      "C:\\Users\\Snow\\Anaconda3\\lib\\site-packages\\sklearn\\ensemble\\weight_boosting.py:29: DeprecationWarning: numpy.core.umath_tests is an internal NumPy module and should not be imported. It will be removed in a future NumPy release.\n",
      "  from numpy.core.umath_tests import inner1d\n"
     ]
    }
   ],
   "source": [
    "#import libraries\n",
    "import pandas as pd\n",
    "import numpy as np\n",
    "import matplotlib\n",
    "import matplotlib.pyplot as plt\n",
    "import seaborn as sns\n",
    "from sklearn.model_selection import train_test_split, cross_val_predict\n",
    "from sklearn.ensemble import RandomForestClassifier \n",
    "from sklearn.neighbors import KNeighborsClassifier   \n",
    "from sklearn.preprocessing import LabelEncoder, MinMaxScaler\n",
    "from sklearn.metrics import confusion_matrix, precision_score, recall_score, f1_score\n",
    "import time\n",
    "sns.set(style=\"ticks\", color_codes=True)\n",
    "pd.options.display.float_format = '{:,.2f}'.format\n",
    "import warnings\n",
    "warnings.filterwarnings(\"ignore\", category=DeprecationWarning)"
   ]
  },
  {
   "cell_type": "code",
   "execution_count": 2,
   "metadata": {},
   "outputs": [
    {
     "data": {
      "text/html": [
       "<div>\n",
       "<style scoped>\n",
       "    .dataframe tbody tr th:only-of-type {\n",
       "        vertical-align: middle;\n",
       "    }\n",
       "\n",
       "    .dataframe tbody tr th {\n",
       "        vertical-align: top;\n",
       "    }\n",
       "\n",
       "    .dataframe thead th {\n",
       "        text-align: right;\n",
       "    }\n",
       "</style>\n",
       "<table border=\"1\" class=\"dataframe\">\n",
       "  <thead>\n",
       "    <tr style=\"text-align: right;\">\n",
       "      <th></th>\n",
       "      <th>event_timestamp</th>\n",
       "      <th>event_category</th>\n",
       "      <th>event_id</th>\n",
       "      <th>player_country_code</th>\n",
       "      <th>player_id</th>\n",
       "      <th>player_session_id</th>\n",
       "      <th>transaction_amount</th>\n",
       "      <th>game_build</th>\n",
       "      <th>player_first_install_timestamp</th>\n",
       "      <th>session_start_ts</th>\n",
       "      <th>session_duration_seconds</th>\n",
       "      <th>player_cumulative_revenue</th>\n",
       "    </tr>\n",
       "  </thead>\n",
       "  <tbody>\n",
       "    <tr>\n",
       "      <th>0</th>\n",
       "      <td>1484053435</td>\n",
       "      <td>design</td>\n",
       "      <td>boot</td>\n",
       "      <td>TR</td>\n",
       "      <td>7a98917fd12ba24ae4d2e42a74b0944c</td>\n",
       "      <td>01l7esFo-5XvS-eyKl-QX5q-UalaTmyM2qz</td>\n",
       "      <td>nan</td>\n",
       "      <td>v1.1.26</td>\n",
       "      <td>1483818916</td>\n",
       "      <td>1484053428</td>\n",
       "      <td>310</td>\n",
       "      <td>nan</td>\n",
       "    </tr>\n",
       "    <tr>\n",
       "      <th>1</th>\n",
       "      <td>1484416837</td>\n",
       "      <td>design</td>\n",
       "      <td>boot</td>\n",
       "      <td>IT</td>\n",
       "      <td>20fbf618e34215d876965b6304134ce3</td>\n",
       "      <td>03PPdJ8G-Hn6V-5zwl-xRZx-3k06wnFhxqH</td>\n",
       "      <td>nan</td>\n",
       "      <td>v1.1.26</td>\n",
       "      <td>1484416849</td>\n",
       "      <td>1484416835</td>\n",
       "      <td>14</td>\n",
       "      <td>nan</td>\n",
       "    </tr>\n",
       "    <tr>\n",
       "      <th>2</th>\n",
       "      <td>1484148932</td>\n",
       "      <td>design</td>\n",
       "      <td>boot</td>\n",
       "      <td>NaN</td>\n",
       "      <td>c44c05baf6f019241780cca1947e8cc2</td>\n",
       "      <td>03qZsL5V-m8MH-ybBT-PX6w-K83AOfIWnek</td>\n",
       "      <td>nan</td>\n",
       "      <td>v1.1.28</td>\n",
       "      <td>1482771340</td>\n",
       "      <td>1484148925</td>\n",
       "      <td>8783</td>\n",
       "      <td>nan</td>\n",
       "    </tr>\n",
       "  </tbody>\n",
       "</table>\n",
       "</div>"
      ],
      "text/plain": [
       "   event_timestamp event_category event_id player_country_code  \\\n",
       "0       1484053435         design     boot                  TR   \n",
       "1       1484416837         design     boot                  IT   \n",
       "2       1484148932         design     boot                 NaN   \n",
       "\n",
       "                          player_id                    player_session_id  \\\n",
       "0  7a98917fd12ba24ae4d2e42a74b0944c  01l7esFo-5XvS-eyKl-QX5q-UalaTmyM2qz   \n",
       "1  20fbf618e34215d876965b6304134ce3  03PPdJ8G-Hn6V-5zwl-xRZx-3k06wnFhxqH   \n",
       "2  c44c05baf6f019241780cca1947e8cc2  03qZsL5V-m8MH-ybBT-PX6w-K83AOfIWnek   \n",
       "\n",
       "   transaction_amount game_build  player_first_install_timestamp  \\\n",
       "0                 nan    v1.1.26                      1483818916   \n",
       "1                 nan    v1.1.26                      1484416849   \n",
       "2                 nan    v1.1.28                      1482771340   \n",
       "\n",
       "   session_start_ts  session_duration_seconds  player_cumulative_revenue  \n",
       "0        1484053428                       310                        nan  \n",
       "1        1484416835                        14                        nan  \n",
       "2        1484148925                      8783                        nan  "
      ]
     },
     "execution_count": 2,
     "metadata": {},
     "output_type": "execute_result"
    }
   ],
   "source": [
    "#read data\n",
    "import gzip\n",
    "with gzip.open(\"GameAnalyticsTestData.gz\") as f:\n",
    "    event_df = pd.read_csv(f)\n",
    "event_df.head(3)"
   ]
  },
  {
   "cell_type": "code",
   "execution_count": 3,
   "metadata": {},
   "outputs": [],
   "source": [
    "#convert event timestamp to datetime & creating event day_of_week\n",
    "event_df[\"day_of_week\"] = pd.to_datetime(event_df[\"event_timestamp\"],unit='s').dt.day_name()"
   ]
  },
  {
   "cell_type": "code",
   "execution_count": 4,
   "metadata": {},
   "outputs": [],
   "source": [
    "#drop unnecessary fields for modelling\n",
    "event_df.drop([\"player_id\",\"player_session_id\",\"event_timestamp\",\"player_first_install_timestamp\",\"session_start_ts\"], axis=1, inplace=True)"
   ]
  },
  {
   "cell_type": "code",
   "execution_count": 5,
   "metadata": {},
   "outputs": [
    {
     "data": {
      "text/html": [
       "<div>\n",
       "<style scoped>\n",
       "    .dataframe tbody tr th:only-of-type {\n",
       "        vertical-align: middle;\n",
       "    }\n",
       "\n",
       "    .dataframe tbody tr th {\n",
       "        vertical-align: top;\n",
       "    }\n",
       "\n",
       "    .dataframe thead th {\n",
       "        text-align: right;\n",
       "    }\n",
       "</style>\n",
       "<table border=\"1\" class=\"dataframe\">\n",
       "  <thead>\n",
       "    <tr style=\"text-align: right;\">\n",
       "      <th></th>\n",
       "      <th>event_category</th>\n",
       "      <th>event_id</th>\n",
       "      <th>player_country_code</th>\n",
       "      <th>transaction_amount</th>\n",
       "      <th>game_build</th>\n",
       "      <th>session_duration_seconds</th>\n",
       "      <th>player_cumulative_revenue</th>\n",
       "      <th>day_of_week</th>\n",
       "    </tr>\n",
       "  </thead>\n",
       "  <tbody>\n",
       "    <tr>\n",
       "      <th>0</th>\n",
       "      <td>design</td>\n",
       "      <td>boot</td>\n",
       "      <td>TR</td>\n",
       "      <td>nan</td>\n",
       "      <td>v1.1.26</td>\n",
       "      <td>310</td>\n",
       "      <td>nan</td>\n",
       "      <td>Tuesday</td>\n",
       "    </tr>\n",
       "    <tr>\n",
       "      <th>1</th>\n",
       "      <td>design</td>\n",
       "      <td>boot</td>\n",
       "      <td>IT</td>\n",
       "      <td>nan</td>\n",
       "      <td>v1.1.26</td>\n",
       "      <td>14</td>\n",
       "      <td>nan</td>\n",
       "      <td>Saturday</td>\n",
       "    </tr>\n",
       "    <tr>\n",
       "      <th>2</th>\n",
       "      <td>design</td>\n",
       "      <td>boot</td>\n",
       "      <td>NaN</td>\n",
       "      <td>nan</td>\n",
       "      <td>v1.1.28</td>\n",
       "      <td>8783</td>\n",
       "      <td>nan</td>\n",
       "      <td>Wednesday</td>\n",
       "    </tr>\n",
       "    <tr>\n",
       "      <th>3</th>\n",
       "      <td>design</td>\n",
       "      <td>boot</td>\n",
       "      <td>AU</td>\n",
       "      <td>nan</td>\n",
       "      <td>v1.1.26</td>\n",
       "      <td>247</td>\n",
       "      <td>396.00</td>\n",
       "      <td>Friday</td>\n",
       "    </tr>\n",
       "    <tr>\n",
       "      <th>4</th>\n",
       "      <td>design</td>\n",
       "      <td>boot</td>\n",
       "      <td>IN</td>\n",
       "      <td>nan</td>\n",
       "      <td>v1.1.26</td>\n",
       "      <td>178</td>\n",
       "      <td>nan</td>\n",
       "      <td>Wednesday</td>\n",
       "    </tr>\n",
       "  </tbody>\n",
       "</table>\n",
       "</div>"
      ],
      "text/plain": [
       "  event_category event_id player_country_code  transaction_amount game_build  \\\n",
       "0         design     boot                  TR                 nan    v1.1.26   \n",
       "1         design     boot                  IT                 nan    v1.1.26   \n",
       "2         design     boot                 NaN                 nan    v1.1.28   \n",
       "3         design     boot                  AU                 nan    v1.1.26   \n",
       "4         design     boot                  IN                 nan    v1.1.26   \n",
       "\n",
       "   session_duration_seconds  player_cumulative_revenue day_of_week  \n",
       "0                       310                        nan     Tuesday  \n",
       "1                        14                        nan    Saturday  \n",
       "2                      8783                        nan   Wednesday  \n",
       "3                       247                     396.00      Friday  \n",
       "4                       178                        nan   Wednesday  "
      ]
     },
     "execution_count": 5,
     "metadata": {},
     "output_type": "execute_result"
    }
   ],
   "source": [
    "event_df.head(5)"
   ]
  },
  {
   "cell_type": "code",
   "execution_count": 6,
   "metadata": {},
   "outputs": [
    {
     "name": "stdout",
     "output_type": "stream",
     "text": [
      "event_category                    0\n",
      "event_id                          0\n",
      "player_country_code           31435\n",
      "transaction_amount           827920\n",
      "game_build                        0\n",
      "session_duration_seconds          0\n",
      "player_cumulative_revenue    790011\n",
      "day_of_week                       0\n",
      "dtype: int64\n"
     ]
    }
   ],
   "source": [
    "#check missing value\n",
    "print(event_df.isnull().sum())"
   ]
  },
  {
   "cell_type": "code",
   "execution_count": 7,
   "metadata": {},
   "outputs": [
    {
     "name": "stdout",
     "output_type": "stream",
     "text": [
      "event_category               0\n",
      "event_id                     0\n",
      "player_country_code          0\n",
      "transaction_amount           0\n",
      "game_build                   0\n",
      "session_duration_seconds     0\n",
      "player_cumulative_revenue    0\n",
      "day_of_week                  0\n",
      "dtype: int64\n"
     ]
    }
   ],
   "source": [
    "#data handling: imput missing value \n",
    "event_df=event_df.dropna(axis=0, subset=['transaction_amount']) \n",
    "event_df=event_df.fillna(0)\n",
    "print(event_df.isnull().sum())"
   ]
  },
  {
   "cell_type": "code",
   "execution_count": 8,
   "metadata": {},
   "outputs": [
    {
     "data": {
      "text/html": [
       "<div>\n",
       "<style scoped>\n",
       "    .dataframe tbody tr th:only-of-type {\n",
       "        vertical-align: middle;\n",
       "    }\n",
       "\n",
       "    .dataframe tbody tr th {\n",
       "        vertical-align: top;\n",
       "    }\n",
       "\n",
       "    .dataframe thead th {\n",
       "        text-align: right;\n",
       "    }\n",
       "</style>\n",
       "<table border=\"1\" class=\"dataframe\">\n",
       "  <thead>\n",
       "    <tr style=\"text-align: right;\">\n",
       "      <th></th>\n",
       "      <th>transaction_amount</th>\n",
       "      <th>session_duration_seconds</th>\n",
       "      <th>player_cumulative_revenue</th>\n",
       "    </tr>\n",
       "  </thead>\n",
       "  <tbody>\n",
       "    <tr>\n",
       "      <th>count</th>\n",
       "      <td>22,089.00</td>\n",
       "      <td>22,089.00</td>\n",
       "      <td>22,089.00</td>\n",
       "    </tr>\n",
       "    <tr>\n",
       "      <th>mean</th>\n",
       "      <td>7,182.01</td>\n",
       "      <td>6,333.73</td>\n",
       "      <td>267,130.72</td>\n",
       "    </tr>\n",
       "    <tr>\n",
       "      <th>std</th>\n",
       "      <td>3,685.55</td>\n",
       "      <td>35,692.31</td>\n",
       "      <td>446,334.34</td>\n",
       "    </tr>\n",
       "    <tr>\n",
       "      <th>min</th>\n",
       "      <td>99.00</td>\n",
       "      <td>0.00</td>\n",
       "      <td>99.00</td>\n",
       "    </tr>\n",
       "    <tr>\n",
       "      <th>25%</th>\n",
       "      <td>3,699.00</td>\n",
       "      <td>525.00</td>\n",
       "      <td>39,996.00</td>\n",
       "    </tr>\n",
       "    <tr>\n",
       "      <th>50%</th>\n",
       "      <td>9,999.00</td>\n",
       "      <td>1,182.00</td>\n",
       "      <td>109,989.00</td>\n",
       "    </tr>\n",
       "    <tr>\n",
       "      <th>75%</th>\n",
       "      <td>9,999.00</td>\n",
       "      <td>2,380.00</td>\n",
       "      <td>277,470.00</td>\n",
       "    </tr>\n",
       "    <tr>\n",
       "      <th>max</th>\n",
       "      <td>9,999.00</td>\n",
       "      <td>1,365,834.00</td>\n",
       "      <td>7,247,265.00</td>\n",
       "    </tr>\n",
       "  </tbody>\n",
       "</table>\n",
       "</div>"
      ],
      "text/plain": [
       "       transaction_amount  session_duration_seconds  player_cumulative_revenue\n",
       "count           22,089.00                 22,089.00                  22,089.00\n",
       "mean             7,182.01                  6,333.73                 267,130.72\n",
       "std              3,685.55                 35,692.31                 446,334.34\n",
       "min                 99.00                      0.00                      99.00\n",
       "25%              3,699.00                    525.00                  39,996.00\n",
       "50%              9,999.00                  1,182.00                 109,989.00\n",
       "75%              9,999.00                  2,380.00                 277,470.00\n",
       "max              9,999.00              1,365,834.00               7,247,265.00"
      ]
     },
     "execution_count": 8,
     "metadata": {},
     "output_type": "execute_result"
    }
   ],
   "source": [
    "event_df.describe()"
   ]
  },
  {
   "cell_type": "markdown",
   "metadata": {},
   "source": [
    "Session_duration_seconds have a nonsense max value. It seems like we have some outliers."
   ]
  },
  {
   "cell_type": "code",
   "execution_count": 9,
   "metadata": {},
   "outputs": [
    {
     "data": {
      "text/plain": [
       "<matplotlib.axes._subplots.AxesSubplot at 0x1d459f933c8>"
      ]
     },
     "execution_count": 9,
     "metadata": {},
     "output_type": "execute_result"
    },
    {
     "data": {
      "image/png": "[encoded data removed]",
      "text/plain": [
       "<Figure size 432x288 with 1 Axes>"
      ]
     },
     "metadata": {
      "needs_background": "light"
     },
     "output_type": "display_data"
    }
   ],
   "source": [
    "sns.boxplot(x=event_df['session_duration_seconds'])"
   ]
  },
  {
   "cell_type": "code",
   "execution_count": 10,
   "metadata": {},
   "outputs": [
    {
     "data": {
      "text/html": [
       "<div>\n",
       "<style scoped>\n",
       "    .dataframe tbody tr th:only-of-type {\n",
       "        vertical-align: middle;\n",
       "    }\n",
       "\n",
       "    .dataframe tbody tr th {\n",
       "        vertical-align: top;\n",
       "    }\n",
       "\n",
       "    .dataframe thead th {\n",
       "        text-align: right;\n",
       "    }\n",
       "</style>\n",
       "<table border=\"1\" class=\"dataframe\">\n",
       "  <thead>\n",
       "    <tr style=\"text-align: right;\">\n",
       "      <th></th>\n",
       "      <th>transaction_amount</th>\n",
       "      <th>session_duration_seconds</th>\n",
       "      <th>player_cumulative_revenue</th>\n",
       "    </tr>\n",
       "  </thead>\n",
       "  <tbody>\n",
       "    <tr>\n",
       "      <th>count</th>\n",
       "      <td>21,287.00</td>\n",
       "      <td>21,287.00</td>\n",
       "      <td>21,287.00</td>\n",
       "    </tr>\n",
       "    <tr>\n",
       "      <th>mean</th>\n",
       "      <td>7,189.76</td>\n",
       "      <td>4,028.77</td>\n",
       "      <td>204,402.08</td>\n",
       "    </tr>\n",
       "    <tr>\n",
       "      <th>std</th>\n",
       "      <td>3,698.62</td>\n",
       "      <td>11,816.30</td>\n",
       "      <td>266,952.09</td>\n",
       "    </tr>\n",
       "    <tr>\n",
       "      <th>min</th>\n",
       "      <td>99.00</td>\n",
       "      <td>7.00</td>\n",
       "      <td>99.00</td>\n",
       "    </tr>\n",
       "    <tr>\n",
       "      <th>25%</th>\n",
       "      <td>3,699.00</td>\n",
       "      <td>506.00</td>\n",
       "      <td>37,993.00</td>\n",
       "    </tr>\n",
       "    <tr>\n",
       "      <th>50%</th>\n",
       "      <td>9,999.00</td>\n",
       "      <td>1,133.00</td>\n",
       "      <td>100,189.00</td>\n",
       "    </tr>\n",
       "    <tr>\n",
       "      <th>75%</th>\n",
       "      <td>9,999.00</td>\n",
       "      <td>2,336.00</td>\n",
       "      <td>249,975.00</td>\n",
       "    </tr>\n",
       "    <tr>\n",
       "      <th>max</th>\n",
       "      <td>9,999.00</td>\n",
       "      <td>105,961.00</td>\n",
       "      <td>1,569,843.00</td>\n",
       "    </tr>\n",
       "  </tbody>\n",
       "</table>\n",
       "</div>"
      ],
      "text/plain": [
       "       transaction_amount  session_duration_seconds  player_cumulative_revenue\n",
       "count           21,287.00                 21,287.00                  21,287.00\n",
       "mean             7,189.76                  4,028.77                 204,402.08\n",
       "std              3,698.62                 11,816.30                 266,952.09\n",
       "min                 99.00                      7.00                      99.00\n",
       "25%              3,699.00                    506.00                  37,993.00\n",
       "50%              9,999.00                  1,133.00                 100,189.00\n",
       "75%              9,999.00                  2,336.00                 249,975.00\n",
       "max              9,999.00                105,961.00               1,569,843.00"
      ]
     },
     "execution_count": 10,
     "metadata": {},
     "output_type": "execute_result"
    }
   ],
   "source": [
    "#Exclude outliers\n",
    "event_df=event_df[~(np.abs(event_df[\"session_duration_seconds\"]-event_df[\"session_duration_seconds\"].mean()) > (3*event_df[\"session_duration_seconds\"].std()))]\n",
    "event_df=event_df[~(np.abs(event_df[\"player_cumulative_revenue\"]-event_df[\"player_cumulative_revenue\"].mean()) > (3*event_df[\"player_cumulative_revenue\"].std()))]\n",
    "event_df.describe()"
   ]
  },
  {
   "cell_type": "markdown",
   "metadata": {},
   "source": [
    "This method to exclude outliers is not successfull as I expected. But again since limited time I can't spend more time for it."
   ]
  },
  {
   "cell_type": "code",
   "execution_count": 11,
   "metadata": {},
   "outputs": [
    {
     "data": {
      "text/plain": [
       "<matplotlib.axes._subplots.AxesSubplot at 0x1d44afe9400>"
      ]
     },
     "execution_count": 11,
     "metadata": {},
     "output_type": "execute_result"
    },
    {
     "data": {
      "image/png": "[encoded data removed]",
      "text/plain": [
       "<Figure size 432x288 with 1 Axes>"
      ]
     },
     "metadata": {
      "needs_background": "light"
     },
     "output_type": "display_data"
    }
   ],
   "source": [
    "sns.boxplot(x=event_df['session_duration_seconds'])"
   ]
  },
  {
   "cell_type": "code",
   "execution_count": 12,
   "metadata": {},
   "outputs": [
    {
     "name": "stdout",
     "output_type": "stream",
     "text": [
      "Number of Unique event id: 29\n"
     ]
    },
    {
     "data": {
      "text/plain": [
       "Monetize:Buy:buycandy6               7547\n",
       "Monetize:Buy:buycash6                5515\n",
       "Monetize:Buy:buybundlehighroller     4172\n",
       "Monetize:Buy:buybundlemotormayhem     819\n",
       "Monetize:Buy:buybundle1               764\n",
       "Monetize:Buy:buycandy1                637\n",
       "Monetize:Buy:buycash1                 361\n",
       "Monetize:Buy:buycandy2                311\n",
       "Monetize:Buy:buycandy3                198\n",
       "Monetize:Buy:buycash5                 108\n",
       "Monetize:Buy:buycandy5                104\n",
       "Monetize:Buy:buycash2                 102\n",
       "Monetize:Buy:buycash4                  89\n",
       "Monetize:Buy:buycandy4                 88\n",
       "Monetize:Buy:buycash3                  88\n",
       "Monetize:Buy:buyCandy6                 85\n",
       "Monetize:Buy:buyCash6                  60\n",
       "Monetize:Buy:buyCandy2                 56\n",
       "Monetize:Buy:buyCandy1                 43\n",
       "Monetize:Buy:buyCandy3                 34\n",
       "Monetize:Buy:buyCash1                  26\n",
       "Monetize:Buy:buyBundleHighRoller       23\n",
       "Monetize:Buy:buyBundle1                17\n",
       "Monetize:Buy:buyCash2                  11\n",
       "Monetize:Buy:buyBundleMotorMayhem      10\n",
       "Monetize:Buy:buyCandy4                  7\n",
       "Monetize:Buy:buyCash3                   7\n",
       "Monetize:Buy:buyCash4                   3\n",
       "Monetize:Buy:buyCandy5                  2\n",
       "Name: event_id, dtype: int64"
      ]
     },
     "execution_count": 12,
     "metadata": {},
     "output_type": "execute_result"
    }
   ],
   "source": [
    "#Check categorical data values\n",
    "print(\"Number of Unique event id: %d\" %event_df['event_id'].nunique())\n",
    "event_df['event_id'].value_counts()"
   ]
  },
  {
   "cell_type": "markdown",
   "metadata": {},
   "source": [
    "There are same events but they had written different, so to be fixed as follow."
   ]
  },
  {
   "cell_type": "code",
   "execution_count": 13,
   "metadata": {},
   "outputs": [
    {
     "name": "stdout",
     "output_type": "stream",
     "text": [
      "Number of Unique event id: 15\n"
     ]
    },
    {
     "data": {
      "text/plain": [
       "monetize:buy:buycandy6               7632\n",
       "monetize:buy:buycash6                5575\n",
       "monetize:buy:buybundlehighroller     4195\n",
       "monetize:buy:buybundlemotormayhem     829\n",
       "monetize:buy:buybundle1               781\n",
       "monetize:buy:buycandy1                680\n",
       "monetize:buy:buycash1                 387\n",
       "monetize:buy:buycandy2                367\n",
       "monetize:buy:buycandy3                232\n",
       "monetize:buy:buycash2                 113\n",
       "monetize:buy:buycash5                 108\n",
       "monetize:buy:buycandy5                106\n",
       "monetize:buy:buycandy4                 95\n",
       "monetize:buy:buycash3                  95\n",
       "monetize:buy:buycash4                  92\n",
       "Name: event_id, dtype: int64"
      ]
     },
     "execution_count": 13,
     "metadata": {},
     "output_type": "execute_result"
    }
   ],
   "source": [
    "#data handling: converting all event_id names to lower case and merging the same categories\n",
    "event_df['event_id']=event_df['event_id'].str.lower()\n",
    "print(\"Number of Unique event id: %d\" %event_df['event_id'].nunique())\n",
    "event_df['event_id'].value_counts()"
   ]
  },
  {
   "cell_type": "code",
   "execution_count": 14,
   "metadata": {},
   "outputs": [
    {
     "data": {
      "text/plain": [
       "v1.1.26    20903\n",
       "v1.1.28      384\n",
       "Name: game_build, dtype: int64"
      ]
     },
     "execution_count": 14,
     "metadata": {},
     "output_type": "execute_result"
    }
   ],
   "source": [
    "#check data field game_build\n",
    "event_df['game_build'].value_counts()"
   ]
  },
  {
   "cell_type": "code",
   "execution_count": 15,
   "metadata": {
    "scrolled": true
   },
   "outputs": [
    {
     "data": {
      "text/plain": [
       "<matplotlib.axes._subplots.AxesSubplot at 0x1d44b0b7390>"
      ]
     },
     "execution_count": 15,
     "metadata": {},
     "output_type": "execute_result"
    },
    {
     "data": {
      "image/png": "[encoded data removed]",
      "text/plain": [
       "<Figure size 432x288 with 1 Axes>"
      ]
     },
     "metadata": {
      "needs_background": "light"
     },
     "output_type": "display_data"
    }
   ],
   "source": [
    "#boxplot for game_build&transaction_amount\n",
    "sns.boxplot(x=\"game_build\", y=\"transaction_amount\", data=event_df)"
   ]
  },
  {
   "cell_type": "code",
   "execution_count": 16,
   "metadata": {},
   "outputs": [
    {
     "data": {
      "text/plain": [
       "(array([1.26576993e-04, 5.69418524e-05, 3.87916370e-05, 9.26491390e-05,\n",
       "        2.21835967e-05, 0.00000000e+00, 9.83433243e-05, 0.00000000e+00,\n",
       "        0.00000000e+00, 4.97648064e-04, 0.00000000e+00, 0.00000000e+00,\n",
       "        2.53865759e-05, 0.00000000e+00, 0.00000000e+00, 0.00000000e+00,\n",
       "        0.00000000e+00, 0.00000000e+00, 0.00000000e+00, 0.00000000e+00,\n",
       "        0.00000000e+00, 0.00000000e+00, 0.00000000e+00, 0.00000000e+00,\n",
       "        1.56673134e-03]),\n",
       " array([  99.,  495.,  891., 1287., 1683., 2079., 2475., 2871., 3267.,\n",
       "        3663., 4059., 4455., 4851., 5247., 5643., 6039., 6435., 6831.,\n",
       "        7227., 7623., 8019., 8415., 8811., 9207., 9603., 9999.]),\n",
       " <a list of 25 Patch objects>)"
      ]
     },
     "execution_count": 16,
     "metadata": {},
     "output_type": "execute_result"
    },
    {
     "data": {
      "image/png": "[encoded data removed]",
      "text/plain": [
       "<Figure size 432x288 with 1 Axes>"
      ]
     },
     "metadata": {
      "needs_background": "light"
     },
     "output_type": "display_data"
    }
   ],
   "source": [
    "s=event_df[event_df[\"transaction_amount\"]!=0]\n",
    "plt.hist(s[\"transaction_amount\"], bins=25, density=True, alpha=0.6, color='g')"
   ]
  },
  {
   "cell_type": "code",
   "execution_count": 17,
   "metadata": {},
   "outputs": [
    {
     "data": {
      "text/plain": [
       "99.00         680\n",
       "199.00        387\n",
       "499.00        480\n",
       "999.00        327\n",
       "1,599.00      781\n",
       "1,998.00      187\n",
       "2,499.00      829\n",
       "3,699.00     4195\n",
       "4,999.00      214\n",
       "9,999.00    13207\n",
       "Name: transaction_amount, dtype: int64"
      ]
     },
     "execution_count": 17,
     "metadata": {},
     "output_type": "execute_result"
    }
   ],
   "source": [
    "#check transaction_amount field\n",
    "event_df[\"transaction_amount\"].value_counts().sort_index()"
   ]
  },
  {
   "cell_type": "code",
   "execution_count": 18,
   "metadata": {},
   "outputs": [
    {
     "data": {
      "text/plain": [
       "high    13421\n",
       "low      7866\n",
       "Name: transaction_amount, dtype: int64"
      ]
     },
     "execution_count": 18,
     "metadata": {},
     "output_type": "execute_result"
    }
   ],
   "source": [
    "#Categorize in Low and High Class\n",
    "event_df[\"transaction_amount\"]=pd.cut(event_df['transaction_amount'], bins=[99, 3699, 9999], include_lowest=True, labels=['low', 'high'])\n",
    "event_df[\"transaction_amount\"].value_counts()"
   ]
  },
  {
   "cell_type": "code",
   "execution_count": 19,
   "metadata": {},
   "outputs": [
    {
     "data": {
      "text/plain": [
       "Index(['event_category', 'event_id', 'player_country_code', 'game_build',\n",
       "       'day_of_week'],\n",
       "      dtype='object')"
      ]
     },
     "execution_count": 19,
     "metadata": {},
     "output_type": "execute_result"
    }
   ],
   "source": [
    "#categoric field in dataset\n",
    "categorical_df = event_df.select_dtypes(include=['object']).copy()\n",
    "categorical_df.columns"
   ]
  },
  {
   "cell_type": "code",
   "execution_count": 20,
   "metadata": {},
   "outputs": [
    {
     "data": {
      "text/html": [
       "<div>\n",
       "<style scoped>\n",
       "    .dataframe tbody tr th:only-of-type {\n",
       "        vertical-align: middle;\n",
       "    }\n",
       "\n",
       "    .dataframe tbody tr th {\n",
       "        vertical-align: top;\n",
       "    }\n",
       "\n",
       "    .dataframe thead th {\n",
       "        text-align: right;\n",
       "    }\n",
       "</style>\n",
       "<table border=\"1\" class=\"dataframe\">\n",
       "  <thead>\n",
       "    <tr style=\"text-align: right;\">\n",
       "      <th></th>\n",
       "      <th>event_category</th>\n",
       "      <th>event_id</th>\n",
       "      <th>player_country_code</th>\n",
       "      <th>transaction_amount</th>\n",
       "      <th>game_build</th>\n",
       "      <th>session_duration_seconds</th>\n",
       "      <th>player_cumulative_revenue</th>\n",
       "      <th>day_of_week</th>\n",
       "    </tr>\n",
       "  </thead>\n",
       "  <tbody>\n",
       "    <tr>\n",
       "      <th>172</th>\n",
       "      <td>0</td>\n",
       "      <td>4</td>\n",
       "      <td>70</td>\n",
       "      <td>low</td>\n",
       "      <td>0</td>\n",
       "      <td>1327</td>\n",
       "      <td>4,196.00</td>\n",
       "      <td>Thursday</td>\n",
       "    </tr>\n",
       "    <tr>\n",
       "      <th>636</th>\n",
       "      <td>0</td>\n",
       "      <td>9</td>\n",
       "      <td>51</td>\n",
       "      <td>low</td>\n",
       "      <td>0</td>\n",
       "      <td>3826</td>\n",
       "      <td>398.00</td>\n",
       "      <td>Monday</td>\n",
       "    </tr>\n",
       "    <tr>\n",
       "      <th>637</th>\n",
       "      <td>0</td>\n",
       "      <td>9</td>\n",
       "      <td>51</td>\n",
       "      <td>low</td>\n",
       "      <td>0</td>\n",
       "      <td>3826</td>\n",
       "      <td>199.00</td>\n",
       "      <td>Monday</td>\n",
       "    </tr>\n",
       "    <tr>\n",
       "      <th>638</th>\n",
       "      <td>0</td>\n",
       "      <td>9</td>\n",
       "      <td>51</td>\n",
       "      <td>low</td>\n",
       "      <td>0</td>\n",
       "      <td>3826</td>\n",
       "      <td>597.00</td>\n",
       "      <td>Monday</td>\n",
       "    </tr>\n",
       "    <tr>\n",
       "      <th>639</th>\n",
       "      <td>0</td>\n",
       "      <td>9</td>\n",
       "      <td>51</td>\n",
       "      <td>low</td>\n",
       "      <td>0</td>\n",
       "      <td>3826</td>\n",
       "      <td>796.00</td>\n",
       "      <td>Monday</td>\n",
       "    </tr>\n",
       "  </tbody>\n",
       "</table>\n",
       "</div>"
      ],
      "text/plain": [
       "     event_category  event_id  player_country_code transaction_amount  \\\n",
       "172               0         4                   70                low   \n",
       "636               0         9                   51                low   \n",
       "637               0         9                   51                low   \n",
       "638               0         9                   51                low   \n",
       "639               0         9                   51                low   \n",
       "\n",
       "     game_build  session_duration_seconds  player_cumulative_revenue  \\\n",
       "172           0                      1327                   4,196.00   \n",
       "636           0                      3826                     398.00   \n",
       "637           0                      3826                     199.00   \n",
       "638           0                      3826                     597.00   \n",
       "639           0                      3826                     796.00   \n",
       "\n",
       "    day_of_week  \n",
       "172    Thursday  \n",
       "636      Monday  \n",
       "637      Monday  \n",
       "638      Monday  \n",
       "639      Monday  "
      ]
     },
     "execution_count": 20,
     "metadata": {},
     "output_type": "execute_result"
    }
   ],
   "source": [
    "#preprocessing \n",
    "from sklearn import preprocessing\n",
    "le = preprocessing.LabelEncoder()\n",
    "event_df[\"player_country_code\"] = le.fit_transform(event_df[\"player_country_code\"].astype(str))\n",
    "event_df[\"event_category\"] = le.fit_transform(event_df[\"event_category\"].astype(str))\n",
    "event_df[\"event_id\"] = le.fit_transform(event_df[\"event_id\"].astype(str))\n",
    "event_df[\"game_build\"] = le.fit_transform(event_df[\"game_build\"].astype(str))\n",
    "\n",
    "event_df.head(5)"
   ]
  },
  {
   "cell_type": "code",
   "execution_count": 21,
   "metadata": {},
   "outputs": [],
   "source": [
    "event_df[\"day_of_week\"] = le.fit_transform(event_df[\"day_of_week\"].astype(str))"
   ]
  },
  {
   "cell_type": "code",
   "execution_count": 22,
   "metadata": {},
   "outputs": [
    {
     "data": {
      "image/png": "[encoded data removed]",
      "text/plain": [
       "<Figure size 1600x400 with 4 Axes>"
      ]
     },
     "metadata": {
      "needs_background": "light"
     },
     "output_type": "display_data"
    }
   ],
   "source": [
    "fig, axes = plt.subplots(nrows=1, ncols=2,figsize=(16, 4))\n",
    "fig.set_dpi(100)\n",
    "ax = sns.heatmap(event_df[event_df['transaction_amount']=='low'][['event_id','player_country_code','game_build',\n",
    "       'session_duration_seconds', 'player_cumulative_revenue','day_of_week']].corr(), ax = axes[0], cmap='coolwarm')\n",
    "ax.set_title('Low')\n",
    "\n",
    "ax = sns.heatmap(event_df[event_df['transaction_amount']=='high'][['event_id','player_country_code','game_build',\n",
    "       'session_duration_seconds', 'player_cumulative_revenue','day_of_week']].corr(), ax = axes[1], cmap='coolwarm')\n",
    "ax = ax.set_title('High')"
   ]
  },
  {
   "cell_type": "markdown",
   "metadata": {},
   "source": [
    "As we understand from heatmaps above, there is no relationship between the given fields and amount category. More data is needed for an accurate modelling."
   ]
  },
  {
   "cell_type": "code",
   "execution_count": 23,
   "metadata": {},
   "outputs": [],
   "source": [
    "event_df[\"transaction_amount\"] = le.fit_transform(event_df[\"transaction_amount\"].astype(str))"
   ]
  },
  {
   "cell_type": "code",
   "execution_count": 24,
   "metadata": {},
   "outputs": [],
   "source": [
    "X_train, X_test, y_train, y_test = train_test_split(event_df, event_df['transaction_amount'], test_size=0.33)"
   ]
  },
  {
   "cell_type": "code",
   "execution_count": 25,
   "metadata": {},
   "outputs": [
    {
     "name": "stdout",
     "output_type": "stream",
     "text": [
      "Scikit-Learn's K Nearest Neighbors Classifier's prediction accuracy is: 76.09\n",
      "Time consumed for training: 0.025 seconds\n",
      "Time consumed for prediction: 0.04759 seconds\n"
     ]
    }
   ],
   "source": [
    "knn = KNeighborsClassifier()\n",
    "training_start = time.perf_counter()\n",
    "knn.fit(X_train, y_train)\n",
    "training_end = time.perf_counter()\n",
    "prediction_start = time.perf_counter()\n",
    "preds = knn.predict(X_test)\n",
    "prediction_end = time.perf_counter()\n",
    "acc_knn = (preds == y_test).sum().astype(float) / len(preds)*100\n",
    "knn_train_time = training_end-training_start\n",
    "knn_prediction_time = prediction_end-prediction_start\n",
    "print(\"Scikit-Learn's K Nearest Neighbors Classifier's prediction accuracy is: %3.2f\" % (acc_knn))\n",
    "print(\"Time consumed for training: %4.3f seconds\" % (knn_train_time))\n",
    "print(\"Time consumed for prediction: %6.5f seconds\" % (knn_prediction_time))"
   ]
  },
  {
   "cell_type": "code",
   "execution_count": 26,
   "metadata": {
    "scrolled": true
   },
   "outputs": [
    {
     "name": "stdout",
     "output_type": "stream",
     "text": [
      "Scikit-Learn's Random Forest Classifier's prediction accuracy is: 100.00\n",
      "Time consumed for training: 0.063 seconds\n",
      "Time consumed for prediction: 0.00694 seconds\n"
     ]
    }
   ],
   "source": [
    "rfc = RandomForestClassifier(n_estimators=10)\n",
    "training_start = time.perf_counter()\n",
    "rfc.fit(X_train, y_train)\n",
    "training_end = time.perf_counter()\n",
    "prediction_start = time.perf_counter()\n",
    "preds = rfc.predict(X_test)\n",
    "prediction_end = time.perf_counter()\n",
    "acc_rfc = (preds == y_test).sum().astype(float) / len(preds)*100\n",
    "rfc_train_time = training_end-training_start\n",
    "rfc_prediction_time = prediction_end-prediction_start\n",
    "print(\"Scikit-Learn's Random Forest Classifier's prediction accuracy is: %3.2f\" % (acc_rfc))\n",
    "print(\"Time consumed for training: %4.3f seconds\" % (rfc_train_time))\n",
    "print(\"Time consumed for prediction: %6.5f seconds\" % (rfc_prediction_time))"
   ]
  },
  {
   "cell_type": "markdown",
   "metadata": {},
   "source": [
    "It is not normal to have an 100% occuracy. I think, more data manipulation is needed but time is limited.\n",
    "Also I just tried 2 models for sample. Normally I would try others like SVN, xgboost.\n",
    "Cross validation and feature importance need to be looked."
   ]
  }
 ],
 "metadata": {
  "kernelspec": {
   "display_name": "Python 3",
   "language": "python",
   "name": "python3"
  },
  "language_info": {
   "codemirror_mode": {
    "name": "ipython",
    "version": 3
   },
   "file_extension": ".py",
   "mimetype": "text/x-python",
   "name": "python",
   "nbconvert_exporter": "python",
   "pygments_lexer": "ipython3",
   "version": "3.7.0"
  }
 },
 "nbformat": 4,
 "nbformat_minor": 2
}
