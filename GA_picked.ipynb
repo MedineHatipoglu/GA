{
 "cells": [
  {
   "cell_type": "code",
   "execution_count": 1,
   "metadata": {
    "scrolled": true
   },
   "outputs": [],
   "source": [
    "import pandas as pd\n",
    "pd.options.display.float_format = '{:,.2f}'.format\n",
    "import numpy as np\n",
    "import matplotlib\n",
    "import matplotlib.pyplot as plt"
   ]
  },
  {
   "cell_type": "code",
   "execution_count": 2,
   "metadata": {},
   "outputs": [
    {
     "data": {
      "text/html": [
       "<div>\n",
       "<style scoped>\n",
       "    .dataframe tbody tr th:only-of-type {\n",
       "        vertical-align: middle;\n",
       "    }\n",
       "\n",
       "    .dataframe tbody tr th {\n",
       "        vertical-align: top;\n",
       "    }\n",
       "\n",
       "    .dataframe thead th {\n",
       "        text-align: right;\n",
       "    }\n",
       "</style>\n",
       "<table border=\"1\" class=\"dataframe\">\n",
       "  <thead>\n",
       "    <tr style=\"text-align: right;\">\n",
       "      <th></th>\n",
       "      <th>event_timestamp</th>\n",
       "      <th>event_category</th>\n",
       "      <th>event_id</th>\n",
       "      <th>player_country_code</th>\n",
       "      <th>player_id</th>\n",
       "      <th>player_session_id</th>\n",
       "      <th>transaction_amount</th>\n",
       "      <th>game_build</th>\n",
       "      <th>player_first_install_timestamp</th>\n",
       "      <th>session_start_ts</th>\n",
       "      <th>session_duration_seconds</th>\n",
       "      <th>player_cumulative_revenue</th>\n",
       "    </tr>\n",
       "  </thead>\n",
       "  <tbody>\n",
       "    <tr>\n",
       "      <th>0</th>\n",
       "      <td>1484053435</td>\n",
       "      <td>design</td>\n",
       "      <td>boot</td>\n",
       "      <td>TR</td>\n",
       "      <td>7a98917fd12ba24ae4d2e42a74b0944c</td>\n",
       "      <td>01l7esFo-5XvS-eyKl-QX5q-UalaTmyM2qz</td>\n",
       "      <td>nan</td>\n",
       "      <td>v1.1.26</td>\n",
       "      <td>1483818916</td>\n",
       "      <td>1484053428</td>\n",
       "      <td>310</td>\n",
       "      <td>nan</td>\n",
       "    </tr>\n",
       "    <tr>\n",
       "      <th>1</th>\n",
       "      <td>1484416837</td>\n",
       "      <td>design</td>\n",
       "      <td>boot</td>\n",
       "      <td>IT</td>\n",
       "      <td>20fbf618e34215d876965b6304134ce3</td>\n",
       "      <td>03PPdJ8G-Hn6V-5zwl-xRZx-3k06wnFhxqH</td>\n",
       "      <td>nan</td>\n",
       "      <td>v1.1.26</td>\n",
       "      <td>1484416849</td>\n",
       "      <td>1484416835</td>\n",
       "      <td>14</td>\n",
       "      <td>nan</td>\n",
       "    </tr>\n",
       "    <tr>\n",
       "      <th>2</th>\n",
       "      <td>1484148932</td>\n",
       "      <td>design</td>\n",
       "      <td>boot</td>\n",
       "      <td>NaN</td>\n",
       "      <td>c44c05baf6f019241780cca1947e8cc2</td>\n",
       "      <td>03qZsL5V-m8MH-ybBT-PX6w-K83AOfIWnek</td>\n",
       "      <td>nan</td>\n",
       "      <td>v1.1.28</td>\n",
       "      <td>1482771340</td>\n",
       "      <td>1484148925</td>\n",
       "      <td>8783</td>\n",
       "      <td>nan</td>\n",
       "    </tr>\n",
       "    <tr>\n",
       "      <th>3</th>\n",
       "      <td>1483688749</td>\n",
       "      <td>design</td>\n",
       "      <td>boot</td>\n",
       "      <td>AU</td>\n",
       "      <td>f3c00d6b906806ed9c72ec9d64f5b588</td>\n",
       "      <td>06M0sv0U-05L2-PmtM-UH2M-EiWuzuKM8s0</td>\n",
       "      <td>nan</td>\n",
       "      <td>v1.1.26</td>\n",
       "      <td>1483354323</td>\n",
       "      <td>1483688742</td>\n",
       "      <td>247</td>\n",
       "      <td>396.00</td>\n",
       "    </tr>\n",
       "    <tr>\n",
       "      <th>4</th>\n",
       "      <td>1484148728</td>\n",
       "      <td>design</td>\n",
       "      <td>boot</td>\n",
       "      <td>IN</td>\n",
       "      <td>3cb0e101b67cfcba4fe42b6342e4d3e5</td>\n",
       "      <td>07PnSNdP-pH1B-JD5T-6esH-AjEDbsHNyuZ</td>\n",
       "      <td>nan</td>\n",
       "      <td>v1.1.26</td>\n",
       "      <td>1482500265</td>\n",
       "      <td>1484148720</td>\n",
       "      <td>178</td>\n",
       "      <td>nan</td>\n",
       "    </tr>\n",
       "  </tbody>\n",
       "</table>\n",
       "</div>"
      ],
      "text/plain": [
       "   event_timestamp event_category event_id player_country_code  \\\n",
       "0       1484053435         design     boot                  TR   \n",
       "1       1484416837         design     boot                  IT   \n",
       "2       1484148932         design     boot                 NaN   \n",
       "3       1483688749         design     boot                  AU   \n",
       "4       1484148728         design     boot                  IN   \n",
       "\n",
       "                          player_id                    player_session_id  \\\n",
       "0  7a98917fd12ba24ae4d2e42a74b0944c  01l7esFo-5XvS-eyKl-QX5q-UalaTmyM2qz   \n",
       "1  20fbf618e34215d876965b6304134ce3  03PPdJ8G-Hn6V-5zwl-xRZx-3k06wnFhxqH   \n",
       "2  c44c05baf6f019241780cca1947e8cc2  03qZsL5V-m8MH-ybBT-PX6w-K83AOfIWnek   \n",
       "3  f3c00d6b906806ed9c72ec9d64f5b588  06M0sv0U-05L2-PmtM-UH2M-EiWuzuKM8s0   \n",
       "4  3cb0e101b67cfcba4fe42b6342e4d3e5  07PnSNdP-pH1B-JD5T-6esH-AjEDbsHNyuZ   \n",
       "\n",
       "   transaction_amount game_build  player_first_install_timestamp  \\\n",
       "0                 nan    v1.1.26                      1483818916   \n",
       "1                 nan    v1.1.26                      1484416849   \n",
       "2                 nan    v1.1.28                      1482771340   \n",
       "3                 nan    v1.1.26                      1483354323   \n",
       "4                 nan    v1.1.26                      1482500265   \n",
       "\n",
       "   session_start_ts  session_duration_seconds  player_cumulative_revenue  \n",
       "0        1484053428                       310                        nan  \n",
       "1        1484416835                        14                        nan  \n",
       "2        1484148925                      8783                        nan  \n",
       "3        1483688742                       247                     396.00  \n",
       "4        1484148720                       178                        nan  "
      ]
     },
     "execution_count": 2,
     "metadata": {},
     "output_type": "execute_result"
    }
   ],
   "source": [
    "#read event dataset\n",
    "import gzip\n",
    "with gzip.open(\"GameAnalyticsTestData.gz\") as f:\n",
    "    event_df = pd.read_csv(f)\n",
    "event_df.head()"
   ]
  },
  {
   "cell_type": "code",
   "execution_count": 3,
   "metadata": {
    "scrolled": true
   },
   "outputs": [
    {
     "name": "stdout",
     "output_type": "stream",
     "text": [
      "<class 'pandas.core.frame.DataFrame'>\n",
      "RangeIndex: 850009 entries, 0 to 850008\n",
      "Data columns (total 12 columns):\n",
      "event_timestamp                   850009 non-null int64\n",
      "event_category                    850009 non-null object\n",
      "event_id                          850009 non-null object\n",
      "player_country_code               818574 non-null object\n",
      "player_id                         850009 non-null object\n",
      "player_session_id                 850009 non-null object\n",
      "transaction_amount                22089 non-null float64\n",
      "game_build                        850009 non-null object\n",
      "player_first_install_timestamp    850009 non-null int64\n",
      "session_start_ts                  850009 non-null int64\n",
      "session_duration_seconds          850009 non-null int64\n",
      "player_cumulative_revenue         59998 non-null float64\n",
      "dtypes: float64(2), int64(4), object(6)\n",
      "memory usage: 77.8+ MB\n"
     ]
    }
   ],
   "source": [
    "event_df.info()"
   ]
  },
  {
   "cell_type": "code",
   "execution_count": 4,
   "metadata": {
    "scrolled": true
   },
   "outputs": [
    {
     "data": {
      "text/html": [
       "<div>\n",
       "<style scoped>\n",
       "    .dataframe tbody tr th:only-of-type {\n",
       "        vertical-align: middle;\n",
       "    }\n",
       "\n",
       "    .dataframe tbody tr th {\n",
       "        vertical-align: top;\n",
       "    }\n",
       "\n",
       "    .dataframe thead th {\n",
       "        text-align: right;\n",
       "    }\n",
       "</style>\n",
       "<table border=\"1\" class=\"dataframe\">\n",
       "  <thead>\n",
       "    <tr style=\"text-align: right;\">\n",
       "      <th></th>\n",
       "      <th>country_code</th>\n",
       "      <th>name</th>\n",
       "      <th>region</th>\n",
       "    </tr>\n",
       "  </thead>\n",
       "  <tbody>\n",
       "    <tr>\n",
       "      <th>0</th>\n",
       "      <td>xx</td>\n",
       "      <td>Unknown</td>\n",
       "      <td>Unknown</td>\n",
       "    </tr>\n",
       "    <tr>\n",
       "      <th>1</th>\n",
       "      <td>a1</td>\n",
       "      <td>Anonymous Proxy</td>\n",
       "      <td>Proxy</td>\n",
       "    </tr>\n",
       "    <tr>\n",
       "      <th>2</th>\n",
       "      <td>a2</td>\n",
       "      <td>Satellite Provider</td>\n",
       "      <td>Satellite</td>\n",
       "    </tr>\n",
       "    <tr>\n",
       "      <th>3</th>\n",
       "      <td>af</td>\n",
       "      <td>Afghanistan</td>\n",
       "      <td>AsiaPacific</td>\n",
       "    </tr>\n",
       "    <tr>\n",
       "      <th>4</th>\n",
       "      <td>al</td>\n",
       "      <td>Albania</td>\n",
       "      <td>Europe</td>\n",
       "    </tr>\n",
       "  </tbody>\n",
       "</table>\n",
       "</div>"
      ],
      "text/plain": [
       "  country_code                name       region\n",
       "0           xx             Unknown      Unknown\n",
       "1           a1     Anonymous Proxy        Proxy\n",
       "2           a2  Satellite Provider    Satellite\n",
       "3           af         Afghanistan  AsiaPacific\n",
       "4           al             Albania       Europe"
      ]
     },
     "execution_count": 4,
     "metadata": {},
     "output_type": "execute_result"
    }
   ],
   "source": [
    "#read region dataset\n",
    "region_df=pd.read_csv(\"https://s3.amazonaws.com/ga-scratchpad/GAME-4183/data/regions.csv\")\n",
    "region_df.head()"
   ]
  },
  {
   "cell_type": "markdown",
   "metadata": {},
   "source": [
    "### Is there a Region from which we receive systematically more events? "
   ]
  },
  {
   "cell_type": "code",
   "execution_count": 5,
   "metadata": {
    "scrolled": false
   },
   "outputs": [
    {
     "name": "stdout",
     "output_type": "stream",
     "text": [
      "<class 'pandas.core.frame.DataFrame'>\n",
      "Int64Index: 850009 entries, 0 to 850008\n",
      "Data columns (total 15 columns):\n",
      "event_timestamp                   850009 non-null int64\n",
      "event_category                    850009 non-null object\n",
      "event_id                          850009 non-null object\n",
      "player_country_code               818574 non-null object\n",
      "player_id                         850009 non-null object\n",
      "player_session_id                 850009 non-null object\n",
      "transaction_amount                22089 non-null float64\n",
      "game_build                        850009 non-null object\n",
      "player_first_install_timestamp    850009 non-null int64\n",
      "session_start_ts                  850009 non-null int64\n",
      "session_duration_seconds          850009 non-null int64\n",
      "player_cumulative_revenue         59998 non-null float64\n",
      "country_code                      814969 non-null object\n",
      "name                              814969 non-null object\n",
      "region                            814969 non-null object\n",
      "dtypes: float64(2), int64(4), object(9)\n",
      "memory usage: 103.8+ MB\n",
      "None\n"
     ]
    },
    {
     "data": {
      "text/html": [
       "<div>\n",
       "<style scoped>\n",
       "    .dataframe tbody tr th:only-of-type {\n",
       "        vertical-align: middle;\n",
       "    }\n",
       "\n",
       "    .dataframe tbody tr th {\n",
       "        vertical-align: top;\n",
       "    }\n",
       "\n",
       "    .dataframe thead th {\n",
       "        text-align: right;\n",
       "    }\n",
       "</style>\n",
       "<table border=\"1\" class=\"dataframe\">\n",
       "  <thead>\n",
       "    <tr style=\"text-align: right;\">\n",
       "      <th></th>\n",
       "      <th>event_timestamp</th>\n",
       "      <th>event_category</th>\n",
       "      <th>event_id</th>\n",
       "      <th>player_country_code</th>\n",
       "      <th>player_id</th>\n",
       "      <th>player_session_id</th>\n",
       "      <th>transaction_amount</th>\n",
       "      <th>game_build</th>\n",
       "      <th>player_first_install_timestamp</th>\n",
       "      <th>session_start_ts</th>\n",
       "      <th>session_duration_seconds</th>\n",
       "      <th>player_cumulative_revenue</th>\n",
       "      <th>country_code</th>\n",
       "      <th>name</th>\n",
       "      <th>region</th>\n",
       "    </tr>\n",
       "  </thead>\n",
       "  <tbody>\n",
       "    <tr>\n",
       "      <th>0</th>\n",
       "      <td>1484053435</td>\n",
       "      <td>design</td>\n",
       "      <td>boot</td>\n",
       "      <td>TR</td>\n",
       "      <td>7a98917fd12ba24ae4d2e42a74b0944c</td>\n",
       "      <td>01l7esFo-5XvS-eyKl-QX5q-UalaTmyM2qz</td>\n",
       "      <td>nan</td>\n",
       "      <td>v1.1.26</td>\n",
       "      <td>1483818916</td>\n",
       "      <td>1484053428</td>\n",
       "      <td>310</td>\n",
       "      <td>nan</td>\n",
       "      <td>tr</td>\n",
       "      <td>Turkey</td>\n",
       "      <td>AsiaPacific</td>\n",
       "    </tr>\n",
       "    <tr>\n",
       "      <th>1</th>\n",
       "      <td>1484416837</td>\n",
       "      <td>design</td>\n",
       "      <td>boot</td>\n",
       "      <td>IT</td>\n",
       "      <td>20fbf618e34215d876965b6304134ce3</td>\n",
       "      <td>03PPdJ8G-Hn6V-5zwl-xRZx-3k06wnFhxqH</td>\n",
       "      <td>nan</td>\n",
       "      <td>v1.1.26</td>\n",
       "      <td>1484416849</td>\n",
       "      <td>1484416835</td>\n",
       "      <td>14</td>\n",
       "      <td>nan</td>\n",
       "      <td>it</td>\n",
       "      <td>Italy</td>\n",
       "      <td>Europe</td>\n",
       "    </tr>\n",
       "    <tr>\n",
       "      <th>2</th>\n",
       "      <td>1484148932</td>\n",
       "      <td>design</td>\n",
       "      <td>boot</td>\n",
       "      <td>NaN</td>\n",
       "      <td>c44c05baf6f019241780cca1947e8cc2</td>\n",
       "      <td>03qZsL5V-m8MH-ybBT-PX6w-K83AOfIWnek</td>\n",
       "      <td>nan</td>\n",
       "      <td>v1.1.28</td>\n",
       "      <td>1482771340</td>\n",
       "      <td>1484148925</td>\n",
       "      <td>8783</td>\n",
       "      <td>nan</td>\n",
       "      <td>NaN</td>\n",
       "      <td>NaN</td>\n",
       "      <td>NaN</td>\n",
       "    </tr>\n",
       "    <tr>\n",
       "      <th>3</th>\n",
       "      <td>1483688749</td>\n",
       "      <td>design</td>\n",
       "      <td>boot</td>\n",
       "      <td>AU</td>\n",
       "      <td>f3c00d6b906806ed9c72ec9d64f5b588</td>\n",
       "      <td>06M0sv0U-05L2-PmtM-UH2M-EiWuzuKM8s0</td>\n",
       "      <td>nan</td>\n",
       "      <td>v1.1.26</td>\n",
       "      <td>1483354323</td>\n",
       "      <td>1483688742</td>\n",
       "      <td>247</td>\n",
       "      <td>396.00</td>\n",
       "      <td>au</td>\n",
       "      <td>Australia</td>\n",
       "      <td>AsiaPacific</td>\n",
       "    </tr>\n",
       "    <tr>\n",
       "      <th>4</th>\n",
       "      <td>1484148728</td>\n",
       "      <td>design</td>\n",
       "      <td>boot</td>\n",
       "      <td>IN</td>\n",
       "      <td>3cb0e101b67cfcba4fe42b6342e4d3e5</td>\n",
       "      <td>07PnSNdP-pH1B-JD5T-6esH-AjEDbsHNyuZ</td>\n",
       "      <td>nan</td>\n",
       "      <td>v1.1.26</td>\n",
       "      <td>1482500265</td>\n",
       "      <td>1484148720</td>\n",
       "      <td>178</td>\n",
       "      <td>nan</td>\n",
       "      <td>in</td>\n",
       "      <td>India</td>\n",
       "      <td>AsiaPacific</td>\n",
       "    </tr>\n",
       "  </tbody>\n",
       "</table>\n",
       "</div>"
      ],
      "text/plain": [
       "   event_timestamp event_category event_id player_country_code  \\\n",
       "0       1484053435         design     boot                  TR   \n",
       "1       1484416837         design     boot                  IT   \n",
       "2       1484148932         design     boot                 NaN   \n",
       "3       1483688749         design     boot                  AU   \n",
       "4       1484148728         design     boot                  IN   \n",
       "\n",
       "                          player_id                    player_session_id  \\\n",
       "0  7a98917fd12ba24ae4d2e42a74b0944c  01l7esFo-5XvS-eyKl-QX5q-UalaTmyM2qz   \n",
       "1  20fbf618e34215d876965b6304134ce3  03PPdJ8G-Hn6V-5zwl-xRZx-3k06wnFhxqH   \n",
       "2  c44c05baf6f019241780cca1947e8cc2  03qZsL5V-m8MH-ybBT-PX6w-K83AOfIWnek   \n",
       "3  f3c00d6b906806ed9c72ec9d64f5b588  06M0sv0U-05L2-PmtM-UH2M-EiWuzuKM8s0   \n",
       "4  3cb0e101b67cfcba4fe42b6342e4d3e5  07PnSNdP-pH1B-JD5T-6esH-AjEDbsHNyuZ   \n",
       "\n",
       "   transaction_amount game_build  player_first_install_timestamp  \\\n",
       "0                 nan    v1.1.26                      1483818916   \n",
       "1                 nan    v1.1.26                      1484416849   \n",
       "2                 nan    v1.1.28                      1482771340   \n",
       "3                 nan    v1.1.26                      1483354323   \n",
       "4                 nan    v1.1.26                      1482500265   \n",
       "\n",
       "   session_start_ts  session_duration_seconds  player_cumulative_revenue  \\\n",
       "0        1484053428                       310                        nan   \n",
       "1        1484416835                        14                        nan   \n",
       "2        1484148925                      8783                        nan   \n",
       "3        1483688742                       247                     396.00   \n",
       "4        1484148720                       178                        nan   \n",
       "\n",
       "  country_code       name       region  \n",
       "0           tr     Turkey  AsiaPacific  \n",
       "1           it      Italy       Europe  \n",
       "2          NaN        NaN          NaN  \n",
       "3           au  Australia  AsiaPacific  \n",
       "4           in      India  AsiaPacific  "
      ]
     },
     "execution_count": 5,
     "metadata": {},
     "output_type": "execute_result"
    }
   ],
   "source": [
    "#We need region data. So, I combined datasets.\n",
    "\n",
    "#key column (country code) adjusted for merge\n",
    "region_df[\"player_country_code\"]=region_df[\"country_code\"].str.upper()\n",
    "\n",
    "#combine with event dataset (named df before)\n",
    "merged_df = pd.merge(event_df, region_df, how='left', on='player_country_code')\n",
    "\n",
    "#check merged dataset\n",
    "print(merged_df.info())\n",
    "merged_df.head()"
   ]
  },
  {
   "cell_type": "code",
   "execution_count": 6,
   "metadata": {
    "scrolled": false
   },
   "outputs": [
    {
     "data": {
      "text/plain": [
       "<matplotlib.axes._subplots.AxesSubplot at 0x2656b8c7cf8>"
      ]
     },
     "execution_count": 6,
     "metadata": {},
     "output_type": "execute_result"
    },
    {
     "data": {
      "image/png": "[encoded data removed]",
      "text/plain": [
       "<Figure size 1080x504 with 1 Axes>"
      ]
     },
     "metadata": {
      "needs_background": "light"
     },
     "output_type": "display_data"
    }
   ],
   "source": [
    "#convert event timestamp to date\n",
    "merged_df[\"event_date\"] = pd.to_datetime(merged_df[\"event_timestamp\"],unit='s').apply(lambda x: x.date())\n",
    "merged_df.head() \n",
    "\n",
    "#compare the regions by date\n",
    "fig, ax = plt.subplots(figsize=(15,7))\n",
    "merged_df.groupby(['event_date','region']).count()['event_id'].unstack().plot(ax=ax)"
   ]
  },
  {
   "cell_type": "markdown",
   "metadata": {},
   "source": [
    "As we can see from the chart above, Europe and NorthAmerica have more events over the time."
   ]
  },
  {
   "cell_type": "markdown",
   "metadata": {},
   "source": [
    "### Is there a day of the week in which we receive more events? "
   ]
  },
  {
   "cell_type": "code",
   "execution_count": 7,
   "metadata": {
    "scrolled": true
   },
   "outputs": [
    {
     "data": {
      "text/html": [
       "<div>\n",
       "<style scoped>\n",
       "    .dataframe tbody tr th:only-of-type {\n",
       "        vertical-align: middle;\n",
       "    }\n",
       "\n",
       "    .dataframe tbody tr th {\n",
       "        vertical-align: top;\n",
       "    }\n",
       "\n",
       "    .dataframe thead th {\n",
       "        text-align: right;\n",
       "    }\n",
       "</style>\n",
       "<table border=\"1\" class=\"dataframe\">\n",
       "  <thead>\n",
       "    <tr style=\"text-align: right;\">\n",
       "      <th></th>\n",
       "      <th>event_id</th>\n",
       "    </tr>\n",
       "    <tr>\n",
       "      <th>day_of_week</th>\n",
       "      <th></th>\n",
       "    </tr>\n",
       "  </thead>\n",
       "  <tbody>\n",
       "    <tr>\n",
       "      <th>Saturday</th>\n",
       "      <td>169706</td>\n",
       "    </tr>\n",
       "    <tr>\n",
       "      <th>Thursday</th>\n",
       "      <td>160250</td>\n",
       "    </tr>\n",
       "    <tr>\n",
       "      <th>Friday</th>\n",
       "      <td>159212</td>\n",
       "    </tr>\n",
       "    <tr>\n",
       "      <th>Wednesday</th>\n",
       "      <td>94714</td>\n",
       "    </tr>\n",
       "    <tr>\n",
       "      <th>Sunday</th>\n",
       "      <td>91846</td>\n",
       "    </tr>\n",
       "    <tr>\n",
       "      <th>Monday</th>\n",
       "      <td>87954</td>\n",
       "    </tr>\n",
       "    <tr>\n",
       "      <th>Tuesday</th>\n",
       "      <td>86327</td>\n",
       "    </tr>\n",
       "  </tbody>\n",
       "</table>\n",
       "</div>"
      ],
      "text/plain": [
       "             event_id\n",
       "day_of_week          \n",
       "Saturday       169706\n",
       "Thursday       160250\n",
       "Friday         159212\n",
       "Wednesday       94714\n",
       "Sunday          91846\n",
       "Monday          87954\n",
       "Tuesday         86327"
      ]
     },
     "execution_count": 7,
     "metadata": {},
     "output_type": "execute_result"
    }
   ],
   "source": [
    "#Is there a day of the week in which we receive more events?\n",
    "event_df[\"event_timestamp\"] = pd.to_datetime(event_df[\"event_timestamp\"],unit='s')\n",
    "event_df[\"day_of_week\"] = event_df[\"event_timestamp\"].dt.day_name()\n",
    "event_df.groupby('day_of_week').agg({'event_id':'count'}).sort_values(by='event_id', ascending=False)"
   ]
  },
  {
   "cell_type": "markdown",
   "metadata": {},
   "source": [
    "### How many players have been seen playing the game?"
   ]
  },
  {
   "cell_type": "code",
   "execution_count": 8,
   "metadata": {
    "scrolled": true
   },
   "outputs": [
    {
     "name": "stdout",
     "output_type": "stream",
     "text": [
      "Number of Unique User: 93175\n"
     ]
    }
   ],
   "source": [
    "#Number of unique users - player_id\n",
    "print(\"Number of Unique User: %d\" % event_df['player_id'].nunique())"
   ]
  },
  {
   "cell_type": "markdown",
   "metadata": {},
   "source": [
    "### What is the item that produced the largest revenue per day?"
   ]
  },
  {
   "cell_type": "code",
   "execution_count": 9,
   "metadata": {
    "scrolled": true
   },
   "outputs": [
    {
     "name": "stdout",
     "output_type": "stream",
     "text": [
      "     event_date                event_id  transaction_amount\n",
      "20   2017-01-05  Monetize:Buy:buycandy6        7,809,219.00\n",
      "45   2017-01-06  Monetize:Buy:buycandy6        5,759,424.00\n",
      "71   2017-01-07  Monetize:Buy:buycandy6        7,069,293.00\n",
      "98   2017-01-08  Monetize:Buy:buycandy6       10,268,973.00\n",
      "125  2017-01-09  Monetize:Buy:buycandy6        8,759,124.00\n",
      "147  2017-01-10  Monetize:Buy:buycandy6        7,689,231.00\n",
      "174  2017-01-11  Monetize:Buy:buycandy6        8,959,104.00\n",
      "194  2017-01-12  Monetize:Buy:buycandy6        7,429,257.00\n",
      "217  2017-01-13  Monetize:Buy:buycandy6        6,409,359.00\n",
      "244  2017-01-14  Monetize:Buy:buycandy6        8,379,162.00\n"
     ]
    }
   ],
   "source": [
    "#What is the item that produced the largest revenue per day?\n",
    "event_df[\"event_date\"] = pd.to_datetime(event_df[\"event_timestamp\"],unit='s').apply(lambda x: x.date())\n",
    "df=event_df.groupby(['event_date','event_id'], as_index=False)[['transaction_amount']].sum()\n",
    "df=df.sort_values(\"transaction_amount\",ascending=False).head(14)\n",
    "df=df.sort_values(\"event_date\").drop_duplicates(subset='event_date', keep='first', inplace=False)\n",
    "print(df)"
   ]
  },
  {
   "cell_type": "markdown",
   "metadata": {},
   "source": [
    "### What are the 5 most profitable items of this game?"
   ]
  },
  {
   "cell_type": "code",
   "execution_count": 10,
   "metadata": {
    "scrolled": false
   },
   "outputs": [
    {
     "data": {
      "text/plain": [
       "boot                                 827920\n",
       "Monetize:Buy:buycandy6                 7854\n",
       "Monetize:Buy:buycash6                  5640\n",
       "Monetize:Buy:buybundlehighroller       4480\n",
       "Monetize:Buy:buybundlemotormayhem       840\n",
       "Monetize:Buy:buybundle1                 780\n",
       "Monetize:Buy:buycandy1                  641\n",
       "Monetize:Buy:buycash1                   363\n",
       "Monetize:Buy:buycandy2                  311\n",
       "Monetize:Buy:buycandy3                  199\n",
       "Monetize:Buy:buycash5                   118\n",
       "Monetize:Buy:buycash2                   105\n",
       "Monetize:Buy:buycandy5                  104\n",
       "Monetize:Buy:buycash4                    91\n",
       "Monetize:Buy:buycash3                    88\n",
       "Monetize:Buy:buycandy4                   88\n",
       "Monetize:Buy:buyCandy6                   85\n",
       "Monetize:Buy:buyCash6                    60\n",
       "Monetize:Buy:buyCandy2                   57\n",
       "Monetize:Buy:buyCandy1                   44\n",
       "Monetize:Buy:buyCandy3                   34\n",
       "Monetize:Buy:buyCash1                    27\n",
       "Monetize:Buy:buyBundleHighRoller         23\n",
       "Monetize:Buy:buyBundle1                  17\n",
       "Monetize:Buy:buyCash2                    11\n",
       "Monetize:Buy:buyBundleMotorMayhem        10\n",
       "Monetize:Buy:buyCandy4                    7\n",
       "Monetize:Buy:buyCash3                     7\n",
       "Monetize:Buy:buyCash4                     3\n",
       "Monetize:Buy:buyCandy5                    2\n",
       "Name: event_id, dtype: int64"
      ]
     },
     "execution_count": 10,
     "metadata": {},
     "output_type": "execute_result"
    }
   ],
   "source": [
    "#check the field names \n",
    "event_df['event_id'].value_counts()"
   ]
  },
  {
   "cell_type": "code",
   "execution_count": 11,
   "metadata": {
    "scrolled": true
   },
   "outputs": [
    {
     "data": {
      "text/plain": [
       "boot                                 827920\n",
       "monetize:buy:buycandy6                 7939\n",
       "monetize:buy:buycash6                  5700\n",
       "monetize:buy:buybundlehighroller       4503\n",
       "monetize:buy:buybundlemotormayhem       850\n",
       "monetize:buy:buybundle1                 797\n",
       "monetize:buy:buycandy1                  685\n",
       "monetize:buy:buycash1                   390\n",
       "monetize:buy:buycandy2                  368\n",
       "monetize:buy:buycandy3                  233\n",
       "monetize:buy:buycash5                   118\n",
       "monetize:buy:buycash2                   116\n",
       "monetize:buy:buycandy5                  106\n",
       "monetize:buy:buycandy4                   95\n",
       "monetize:buy:buycash3                    95\n",
       "monetize:buy:buycash4                    94\n",
       "Name: event_id, dtype: int64"
      ]
     },
     "execution_count": 11,
     "metadata": {},
     "output_type": "execute_result"
    }
   ],
   "source": [
    "#data handling: event_id has different letter style \n",
    "event_df['event_id']=event_df['event_id'].str.lower() #convert to lowercase \n",
    "event_df['event_id'].value_counts()"
   ]
  },
  {
   "cell_type": "code",
   "execution_count": 12,
   "metadata": {
    "scrolled": true
   },
   "outputs": [
    {
     "name": "stdout",
     "output_type": "stream",
     "text": [
      "                                   transaction_amount\n",
      "event_id                                             \n",
      "monetize:buy:buycandy6                  79,382,061.00\n",
      "monetize:buy:buycash6                   56,994,300.00\n",
      "monetize:buy:buybundlehighroller        16,656,597.00\n",
      "monetize:buy:buybundlemotormayhem        2,124,150.00\n",
      "monetize:buy:buybundle1                  1,274,403.00\n"
     ]
    }
   ],
   "source": [
    "#What are the 5 most profitable items of this game\n",
    "items=event_df.groupby(['event_id'])[['transaction_amount']].sum().sort_values(\"transaction_amount\",ascending=False).head(5)\n",
    "print(items)"
   ]
  },
  {
   "cell_type": "markdown",
   "metadata": {},
   "source": [
    "### How many unique sessions are there per day? "
   ]
  },
  {
   "cell_type": "code",
   "execution_count": 13,
   "metadata": {
    "scrolled": true
   },
   "outputs": [
    {
     "name": "stdout",
     "output_type": "stream",
     "text": [
      "event_date\n",
      "2017-01-05    61857\n",
      "2017-01-06    67090\n",
      "2017-01-07    72801\n",
      "2017-01-08    83883\n",
      "2017-01-09    81318\n",
      "2017-01-10    80430\n",
      "2017-01-11    87432\n",
      "2017-01-12    86866\n",
      "2017-01-13    81206\n",
      "2017-01-14    84915\n",
      "Name: player_session_id, dtype: int64\n"
     ]
    }
   ],
   "source": [
    "#How many unique sessions are there per day?\n",
    "event_df[\"event_date\"] = pd.to_datetime(event_df[\"event_timestamp\"],unit='s').apply(lambda x: x.date())\n",
    "unique_sessions=event_df.groupby(\"event_date\").player_session_id.nunique()\n",
    "print(unique_sessions)"
   ]
  },
  {
   "cell_type": "markdown",
   "metadata": {},
   "source": [
    "### Is the count of unique sessions per user constant during the week?"
   ]
  },
  {
   "cell_type": "code",
   "execution_count": 14,
   "metadata": {
    "scrolled": false
   },
   "outputs": [
    {
     "name": "stdout",
     "output_type": "stream",
     "text": [
      "event_date\n",
      "2017-01-05   2.87\n",
      "2017-01-06   3.18\n",
      "2017-01-07   3.31\n",
      "2017-01-08   3.41\n",
      "2017-01-09   3.45\n",
      "2017-01-10   3.45\n",
      "2017-01-11   3.40\n",
      "2017-01-12   3.51\n",
      "2017-01-13   3.56\n",
      "2017-01-14   3.42\n",
      "dtype: float64\n"
     ]
    },
    {
     "data": {
      "text/plain": [
       "(array([736334., 736335., 736336., 736337., 736338., 736339., 736340.,\n",
       "        736341., 736342., 736343.]), <a list of 10 Text xticklabel objects>)"
      ]
     },
     "execution_count": 14,
     "metadata": {},
     "output_type": "execute_result"
    },
    {
     "data": {
      "image/png": "[encoded data removed]",
      "text/plain": [
       "<Figure size 432x288 with 1 Axes>"
      ]
     },
     "metadata": {
      "needs_background": "light"
     },
     "output_type": "display_data"
    }
   ],
   "source": [
    "#Is the count of unique sessions per user constant during the week?\n",
    "uniq_sessions_per_user=event_df.groupby(\"event_date\").player_session_id.nunique()/event_df.groupby(\"event_date\").player_id.nunique()\n",
    "print(uniq_sessions_per_user)\n",
    "uniq_sessions_per_user.plot(kind='line')\n",
    "plt.xticks(rotation=90)"
   ]
  },
  {
   "cell_type": "code",
   "execution_count": null,
   "metadata": {
    "scrolled": true
   },
   "outputs": [],
   "source": []
  }
 ],
 "metadata": {
  "kernelspec": {
   "display_name": "Python 3",
   "language": "python",
   "name": "python3"
  },
  "language_info": {
   "codemirror_mode": {
    "name": "ipython",
    "version": 3
   },
   "file_extension": ".py",
   "mimetype": "text/x-python",
   "name": "python",
   "nbconvert_exporter": "python",
   "pygments_lexer": "ipython3",
   "version": "3.7.0"
  }
 },
 "nbformat": 4,
 "nbformat_minor": 2
}
